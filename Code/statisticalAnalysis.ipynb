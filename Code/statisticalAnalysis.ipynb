{
  "cells": [
    {
      "cell_type": "code",
      "execution_count": null,
      "metadata": {
        "colab": {
          "base_uri": "https://localhost:8080/"
        },
        "id": "kqOA-PQk4QKB",
        "outputId": "44df915e-f3c2-43a8-e67a-ef86d267e3d8"
      },
      "outputs": [
        {
          "output_type": "stream",
          "name": "stdout",
          "text": [
            "Requirement already satisfied: rpy2==3.5.1 in /usr/local/lib/python3.10/dist-packages (3.5.1)\n",
            "Requirement already satisfied: cffi>=1.10.0 in /usr/local/lib/python3.10/dist-packages (from rpy2==3.5.1) (1.15.1)\n",
            "Requirement already satisfied: jinja2 in /usr/local/lib/python3.10/dist-packages (from rpy2==3.5.1) (3.1.2)\n",
            "Requirement already satisfied: pytz in /usr/local/lib/python3.10/dist-packages (from rpy2==3.5.1) (2022.7.1)\n",
            "Requirement already satisfied: tzlocal in /usr/local/lib/python3.10/dist-packages (from rpy2==3.5.1) (5.0.1)\n",
            "Requirement already satisfied: pycparser in /usr/local/lib/python3.10/dist-packages (from cffi>=1.10.0->rpy2==3.5.1) (2.21)\n",
            "Requirement already satisfied: MarkupSafe>=2.0 in /usr/local/lib/python3.10/dist-packages (from jinja2->rpy2==3.5.1) (2.1.3)\n"
          ]
        }
      ],
      "source": [
        "!pip install rpy2==3.5.1"
      ]
    },
    {
      "cell_type": "code",
      "execution_count": null,
      "metadata": {
        "id": "CfPSxk7qa5iz"
      },
      "outputs": [],
      "source": [
        "!cp \"/content/drive/MyDrive/LinkedIn Project/Data/fullData.csv\" .\n",
        "!cp \"/content/drive/MyDrive/LinkedIn Project/Data/promotionData.csv\" .\n",
        "!cp \"/content/drive/MyDrive/LinkedIn Project/Data/relocationData.csv\" ."
      ]
    },
    {
      "cell_type": "markdown",
      "source": [
        "# Import Python Libraries"
      ],
      "metadata": {
        "id": "2BoW9stw8RFD"
      }
    },
    {
      "cell_type": "code",
      "execution_count": null,
      "metadata": {
        "id": "q8Rf3METbdfa"
      },
      "outputs": [],
      "source": [
        "import pandas as pd\n",
        "import numpy as np\n",
        "from scipy.stats import ks_2samp\n",
        "import rpy2.rinterface\n",
        "%load_ext rpy2.ipython"
      ]
    },
    {
      "cell_type": "markdown",
      "source": [
        "# Install & Import R Libraries"
      ],
      "metadata": {
        "id": "gS8fw0ua8ZIe"
      }
    },
    {
      "cell_type": "code",
      "execution_count": null,
      "metadata": {
        "id": "IU08fcVvCZ4x",
        "colab": {
          "base_uri": "https://localhost:8080/"
        },
        "outputId": "60065f18-e9de-4ab5-d70c-5d941ec009af"
      },
      "outputs": [
        {
          "output_type": "stream",
          "name": "stderr",
          "text": [
            "WARNING:rpy2.rinterface_lib.callbacks:R[write to console]: Installing package into ‘/usr/local/lib/R/site-library’\n",
            "(as ‘lib’ is unspecified)\n",
            "\n",
            "WARNING:rpy2.rinterface_lib.callbacks:R[write to console]: trying URL 'https://cran.rstudio.com/src/contrib/performance_0.10.4.tar.gz'\n",
            "\n",
            "WARNING:rpy2.rinterface_lib.callbacks:R[write to console]: Content type 'application/x-gzip'\n",
            "WARNING:rpy2.rinterface_lib.callbacks:R[write to console]:  length 2095743 bytes (2.0 MB)\n",
            "\n",
            "WARNING:rpy2.rinterface_lib.callbacks:R[write to console]: =\n",
            "WARNING:rpy2.rinterface_lib.callbacks:R[write to console]: =\n",
            "WARNING:rpy2.rinterface_lib.callbacks:R[write to console]: =\n",
            "WARNING:rpy2.rinterface_lib.callbacks:R[write to console]: =\n",
            "WARNING:rpy2.rinterface_lib.callbacks:R[write to console]: =\n",
            "WARNING:rpy2.rinterface_lib.callbacks:R[write to console]: =\n",
            "WARNING:rpy2.rinterface_lib.callbacks:R[write to console]: =\n",
            "WARNING:rpy2.rinterface_lib.callbacks:R[write to console]: =\n",
            "WARNING:rpy2.rinterface_lib.callbacks:R[write to console]: =\n",
            "WARNING:rpy2.rinterface_lib.callbacks:R[write to console]: =\n",
            "WARNING:rpy2.rinterface_lib.callbacks:R[write to console]: =\n",
            "WARNING:rpy2.rinterface_lib.callbacks:R[write to console]: =\n",
            "WARNING:rpy2.rinterface_lib.callbacks:R[write to console]: =\n",
            "WARNING:rpy2.rinterface_lib.callbacks:R[write to console]: =\n",
            "WARNING:rpy2.rinterface_lib.callbacks:R[write to console]: =\n",
            "WARNING:rpy2.rinterface_lib.callbacks:R[write to console]: =\n",
            "WARNING:rpy2.rinterface_lib.callbacks:R[write to console]: =\n",
            "WARNING:rpy2.rinterface_lib.callbacks:R[write to console]: =\n",
            "WARNING:rpy2.rinterface_lib.callbacks:R[write to console]: =\n",
            "WARNING:rpy2.rinterface_lib.callbacks:R[write to console]: =\n",
            "WARNING:rpy2.rinterface_lib.callbacks:R[write to console]: =\n",
            "WARNING:rpy2.rinterface_lib.callbacks:R[write to console]: =\n",
            "WARNING:rpy2.rinterface_lib.callbacks:R[write to console]: =\n",
            "WARNING:rpy2.rinterface_lib.callbacks:R[write to console]: =\n",
            "WARNING:rpy2.rinterface_lib.callbacks:R[write to console]: =\n",
            "WARNING:rpy2.rinterface_lib.callbacks:R[write to console]: =\n",
            "WARNING:rpy2.rinterface_lib.callbacks:R[write to console]: =\n",
            "WARNING:rpy2.rinterface_lib.callbacks:R[write to console]: =\n",
            "WARNING:rpy2.rinterface_lib.callbacks:R[write to console]: =\n",
            "WARNING:rpy2.rinterface_lib.callbacks:R[write to console]: =\n",
            "WARNING:rpy2.rinterface_lib.callbacks:R[write to console]: =\n",
            "WARNING:rpy2.rinterface_lib.callbacks:R[write to console]: =\n",
            "WARNING:rpy2.rinterface_lib.callbacks:R[write to console]: =\n",
            "WARNING:rpy2.rinterface_lib.callbacks:R[write to console]: =\n",
            "WARNING:rpy2.rinterface_lib.callbacks:R[write to console]: =\n",
            "WARNING:rpy2.rinterface_lib.callbacks:R[write to console]: =\n",
            "WARNING:rpy2.rinterface_lib.callbacks:R[write to console]: =\n",
            "WARNING:rpy2.rinterface_lib.callbacks:R[write to console]: =\n",
            "WARNING:rpy2.rinterface_lib.callbacks:R[write to console]: =\n",
            "WARNING:rpy2.rinterface_lib.callbacks:R[write to console]: =\n",
            "WARNING:rpy2.rinterface_lib.callbacks:R[write to console]: =\n",
            "WARNING:rpy2.rinterface_lib.callbacks:R[write to console]: =\n",
            "WARNING:rpy2.rinterface_lib.callbacks:R[write to console]: =\n",
            "WARNING:rpy2.rinterface_lib.callbacks:R[write to console]: =\n",
            "WARNING:rpy2.rinterface_lib.callbacks:R[write to console]: =\n",
            "WARNING:rpy2.rinterface_lib.callbacks:R[write to console]: =\n",
            "WARNING:rpy2.rinterface_lib.callbacks:R[write to console]: =\n",
            "WARNING:rpy2.rinterface_lib.callbacks:R[write to console]: =\n",
            "WARNING:rpy2.rinterface_lib.callbacks:R[write to console]: =\n",
            "WARNING:rpy2.rinterface_lib.callbacks:R[write to console]: =\n",
            "WARNING:rpy2.rinterface_lib.callbacks:R[write to console]: \n",
            "\n",
            "WARNING:rpy2.rinterface_lib.callbacks:R[write to console]: downloaded 2.0 MB\n",
            "\n",
            "\n",
            "WARNING:rpy2.rinterface_lib.callbacks:R[write to console]: \n",
            "\n",
            "WARNING:rpy2.rinterface_lib.callbacks:R[write to console]: \n",
            "WARNING:rpy2.rinterface_lib.callbacks:R[write to console]: The downloaded source packages are in\n",
            "\t‘/tmp/RtmpbW4gct/downloaded_packages’\n",
            "WARNING:rpy2.rinterface_lib.callbacks:R[write to console]: \n",
            "WARNING:rpy2.rinterface_lib.callbacks:R[write to console]: \n",
            "\n",
            "WARNING:rpy2.rinterface_lib.callbacks:R[write to console]: Installing package into ‘/usr/local/lib/R/site-library’\n",
            "(as ‘lib’ is unspecified)\n",
            "\n",
            "WARNING:rpy2.rinterface_lib.callbacks:R[write to console]: trying URL 'https://cran.rstudio.com/src/contrib/car_3.1-2.tar.gz'\n",
            "\n",
            "WARNING:rpy2.rinterface_lib.callbacks:R[write to console]: Content type 'application/x-gzip'\n",
            "WARNING:rpy2.rinterface_lib.callbacks:R[write to console]:  length 579829 bytes (566 KB)\n",
            "\n",
            "WARNING:rpy2.rinterface_lib.callbacks:R[write to console]: =\n",
            "WARNING:rpy2.rinterface_lib.callbacks:R[write to console]: =\n",
            "WARNING:rpy2.rinterface_lib.callbacks:R[write to console]: =\n",
            "WARNING:rpy2.rinterface_lib.callbacks:R[write to console]: =\n",
            "WARNING:rpy2.rinterface_lib.callbacks:R[write to console]: =\n",
            "WARNING:rpy2.rinterface_lib.callbacks:R[write to console]: =\n",
            "WARNING:rpy2.rinterface_lib.callbacks:R[write to console]: =\n",
            "WARNING:rpy2.rinterface_lib.callbacks:R[write to console]: =\n",
            "WARNING:rpy2.rinterface_lib.callbacks:R[write to console]: =\n",
            "WARNING:rpy2.rinterface_lib.callbacks:R[write to console]: =\n",
            "WARNING:rpy2.rinterface_lib.callbacks:R[write to console]: =\n",
            "WARNING:rpy2.rinterface_lib.callbacks:R[write to console]: =\n",
            "WARNING:rpy2.rinterface_lib.callbacks:R[write to console]: =\n",
            "WARNING:rpy2.rinterface_lib.callbacks:R[write to console]: =\n",
            "WARNING:rpy2.rinterface_lib.callbacks:R[write to console]: =\n",
            "WARNING:rpy2.rinterface_lib.callbacks:R[write to console]: =\n",
            "WARNING:rpy2.rinterface_lib.callbacks:R[write to console]: =\n",
            "WARNING:rpy2.rinterface_lib.callbacks:R[write to console]: =\n",
            "WARNING:rpy2.rinterface_lib.callbacks:R[write to console]: =\n",
            "WARNING:rpy2.rinterface_lib.callbacks:R[write to console]: =\n",
            "WARNING:rpy2.rinterface_lib.callbacks:R[write to console]: =\n",
            "WARNING:rpy2.rinterface_lib.callbacks:R[write to console]: =\n",
            "WARNING:rpy2.rinterface_lib.callbacks:R[write to console]: =\n",
            "WARNING:rpy2.rinterface_lib.callbacks:R[write to console]: =\n",
            "WARNING:rpy2.rinterface_lib.callbacks:R[write to console]: =\n",
            "WARNING:rpy2.rinterface_lib.callbacks:R[write to console]: =\n",
            "WARNING:rpy2.rinterface_lib.callbacks:R[write to console]: =\n",
            "WARNING:rpy2.rinterface_lib.callbacks:R[write to console]: =\n",
            "WARNING:rpy2.rinterface_lib.callbacks:R[write to console]: =\n",
            "WARNING:rpy2.rinterface_lib.callbacks:R[write to console]: =\n",
            "WARNING:rpy2.rinterface_lib.callbacks:R[write to console]: =\n",
            "WARNING:rpy2.rinterface_lib.callbacks:R[write to console]: =\n",
            "WARNING:rpy2.rinterface_lib.callbacks:R[write to console]: =\n",
            "WARNING:rpy2.rinterface_lib.callbacks:R[write to console]: =\n",
            "WARNING:rpy2.rinterface_lib.callbacks:R[write to console]: =\n",
            "WARNING:rpy2.rinterface_lib.callbacks:R[write to console]: =\n",
            "WARNING:rpy2.rinterface_lib.callbacks:R[write to console]: =\n",
            "WARNING:rpy2.rinterface_lib.callbacks:R[write to console]: =\n",
            "WARNING:rpy2.rinterface_lib.callbacks:R[write to console]: =\n",
            "WARNING:rpy2.rinterface_lib.callbacks:R[write to console]: =\n",
            "WARNING:rpy2.rinterface_lib.callbacks:R[write to console]: =\n",
            "WARNING:rpy2.rinterface_lib.callbacks:R[write to console]: =\n",
            "WARNING:rpy2.rinterface_lib.callbacks:R[write to console]: =\n",
            "WARNING:rpy2.rinterface_lib.callbacks:R[write to console]: =\n",
            "WARNING:rpy2.rinterface_lib.callbacks:R[write to console]: =\n",
            "WARNING:rpy2.rinterface_lib.callbacks:R[write to console]: =\n",
            "WARNING:rpy2.rinterface_lib.callbacks:R[write to console]: =\n",
            "WARNING:rpy2.rinterface_lib.callbacks:R[write to console]: =\n",
            "WARNING:rpy2.rinterface_lib.callbacks:R[write to console]: =\n",
            "WARNING:rpy2.rinterface_lib.callbacks:R[write to console]: =\n",
            "WARNING:rpy2.rinterface_lib.callbacks:R[write to console]: \n",
            "\n",
            "WARNING:rpy2.rinterface_lib.callbacks:R[write to console]: downloaded 566 KB\n",
            "\n",
            "\n",
            "WARNING:rpy2.rinterface_lib.callbacks:R[write to console]: \n",
            "\n",
            "WARNING:rpy2.rinterface_lib.callbacks:R[write to console]: \n",
            "WARNING:rpy2.rinterface_lib.callbacks:R[write to console]: The downloaded source packages are in\n",
            "\t‘/tmp/RtmpbW4gct/downloaded_packages’\n",
            "WARNING:rpy2.rinterface_lib.callbacks:R[write to console]: \n",
            "WARNING:rpy2.rinterface_lib.callbacks:R[write to console]: \n",
            "\n",
            "WARNING:rpy2.rinterface_lib.callbacks:R[write to console]: Installing package into ‘/usr/local/lib/R/site-library’\n",
            "(as ‘lib’ is unspecified)\n",
            "\n",
            "WARNING:rpy2.rinterface_lib.callbacks:R[write to console]: trying URL 'https://cran.rstudio.com/src/contrib/quantmod_0.4.23.tar.gz'\n",
            "\n",
            "WARNING:rpy2.rinterface_lib.callbacks:R[write to console]: Content type 'application/x-gzip'\n",
            "WARNING:rpy2.rinterface_lib.callbacks:R[write to console]:  length 158999 bytes (155 KB)\n",
            "\n",
            "WARNING:rpy2.rinterface_lib.callbacks:R[write to console]: =\n",
            "WARNING:rpy2.rinterface_lib.callbacks:R[write to console]: =\n",
            "WARNING:rpy2.rinterface_lib.callbacks:R[write to console]: =\n",
            "WARNING:rpy2.rinterface_lib.callbacks:R[write to console]: =\n",
            "WARNING:rpy2.rinterface_lib.callbacks:R[write to console]: =\n",
            "WARNING:rpy2.rinterface_lib.callbacks:R[write to console]: =\n",
            "WARNING:rpy2.rinterface_lib.callbacks:R[write to console]: =\n",
            "WARNING:rpy2.rinterface_lib.callbacks:R[write to console]: =\n",
            "WARNING:rpy2.rinterface_lib.callbacks:R[write to console]: =\n",
            "WARNING:rpy2.rinterface_lib.callbacks:R[write to console]: =\n",
            "WARNING:rpy2.rinterface_lib.callbacks:R[write to console]: =\n",
            "WARNING:rpy2.rinterface_lib.callbacks:R[write to console]: =\n",
            "WARNING:rpy2.rinterface_lib.callbacks:R[write to console]: =\n",
            "WARNING:rpy2.rinterface_lib.callbacks:R[write to console]: =\n",
            "WARNING:rpy2.rinterface_lib.callbacks:R[write to console]: =\n",
            "WARNING:rpy2.rinterface_lib.callbacks:R[write to console]: =\n",
            "WARNING:rpy2.rinterface_lib.callbacks:R[write to console]: =\n",
            "WARNING:rpy2.rinterface_lib.callbacks:R[write to console]: =\n",
            "WARNING:rpy2.rinterface_lib.callbacks:R[write to console]: =\n",
            "WARNING:rpy2.rinterface_lib.callbacks:R[write to console]: =\n",
            "WARNING:rpy2.rinterface_lib.callbacks:R[write to console]: =\n",
            "WARNING:rpy2.rinterface_lib.callbacks:R[write to console]: =\n",
            "WARNING:rpy2.rinterface_lib.callbacks:R[write to console]: =\n",
            "WARNING:rpy2.rinterface_lib.callbacks:R[write to console]: =\n",
            "WARNING:rpy2.rinterface_lib.callbacks:R[write to console]: =\n",
            "WARNING:rpy2.rinterface_lib.callbacks:R[write to console]: =\n",
            "WARNING:rpy2.rinterface_lib.callbacks:R[write to console]: =\n",
            "WARNING:rpy2.rinterface_lib.callbacks:R[write to console]: =\n",
            "WARNING:rpy2.rinterface_lib.callbacks:R[write to console]: =\n",
            "WARNING:rpy2.rinterface_lib.callbacks:R[write to console]: =\n",
            "WARNING:rpy2.rinterface_lib.callbacks:R[write to console]: =\n",
            "WARNING:rpy2.rinterface_lib.callbacks:R[write to console]: =\n",
            "WARNING:rpy2.rinterface_lib.callbacks:R[write to console]: =\n",
            "WARNING:rpy2.rinterface_lib.callbacks:R[write to console]: =\n",
            "WARNING:rpy2.rinterface_lib.callbacks:R[write to console]: =\n",
            "WARNING:rpy2.rinterface_lib.callbacks:R[write to console]: =\n",
            "WARNING:rpy2.rinterface_lib.callbacks:R[write to console]: =\n",
            "WARNING:rpy2.rinterface_lib.callbacks:R[write to console]: =\n",
            "WARNING:rpy2.rinterface_lib.callbacks:R[write to console]: =\n",
            "WARNING:rpy2.rinterface_lib.callbacks:R[write to console]: =\n",
            "WARNING:rpy2.rinterface_lib.callbacks:R[write to console]: =\n",
            "WARNING:rpy2.rinterface_lib.callbacks:R[write to console]: =\n",
            "WARNING:rpy2.rinterface_lib.callbacks:R[write to console]: =\n",
            "WARNING:rpy2.rinterface_lib.callbacks:R[write to console]: =\n",
            "WARNING:rpy2.rinterface_lib.callbacks:R[write to console]: =\n",
            "WARNING:rpy2.rinterface_lib.callbacks:R[write to console]: =\n",
            "WARNING:rpy2.rinterface_lib.callbacks:R[write to console]: =\n",
            "WARNING:rpy2.rinterface_lib.callbacks:R[write to console]: =\n",
            "WARNING:rpy2.rinterface_lib.callbacks:R[write to console]: =\n",
            "WARNING:rpy2.rinterface_lib.callbacks:R[write to console]: =\n",
            "WARNING:rpy2.rinterface_lib.callbacks:R[write to console]: \n",
            "\n",
            "WARNING:rpy2.rinterface_lib.callbacks:R[write to console]: downloaded 155 KB\n",
            "\n",
            "\n",
            "WARNING:rpy2.rinterface_lib.callbacks:R[write to console]: \n",
            "\n",
            "WARNING:rpy2.rinterface_lib.callbacks:R[write to console]: \n",
            "WARNING:rpy2.rinterface_lib.callbacks:R[write to console]: The downloaded source packages are in\n",
            "\t‘/tmp/RtmpbW4gct/downloaded_packages’\n",
            "WARNING:rpy2.rinterface_lib.callbacks:R[write to console]: \n",
            "WARNING:rpy2.rinterface_lib.callbacks:R[write to console]: \n",
            "\n",
            "WARNING:rpy2.rinterface_lib.callbacks:R[write to console]: Installing package into ‘/usr/local/lib/R/site-library’\n",
            "(as ‘lib’ is unspecified)\n",
            "\n",
            "WARNING:rpy2.rinterface_lib.callbacks:R[write to console]: trying URL 'https://cran.rstudio.com/src/contrib/MASS_7.3-60.tar.gz'\n",
            "\n",
            "WARNING:rpy2.rinterface_lib.callbacks:R[write to console]: Content type 'application/x-gzip'\n",
            "WARNING:rpy2.rinterface_lib.callbacks:R[write to console]:  length 561534 bytes (548 KB)\n",
            "\n",
            "WARNING:rpy2.rinterface_lib.callbacks:R[write to console]: =\n",
            "WARNING:rpy2.rinterface_lib.callbacks:R[write to console]: =\n",
            "WARNING:rpy2.rinterface_lib.callbacks:R[write to console]: =\n",
            "WARNING:rpy2.rinterface_lib.callbacks:R[write to console]: =\n",
            "WARNING:rpy2.rinterface_lib.callbacks:R[write to console]: =\n",
            "WARNING:rpy2.rinterface_lib.callbacks:R[write to console]: =\n",
            "WARNING:rpy2.rinterface_lib.callbacks:R[write to console]: =\n",
            "WARNING:rpy2.rinterface_lib.callbacks:R[write to console]: =\n",
            "WARNING:rpy2.rinterface_lib.callbacks:R[write to console]: =\n",
            "WARNING:rpy2.rinterface_lib.callbacks:R[write to console]: =\n",
            "WARNING:rpy2.rinterface_lib.callbacks:R[write to console]: =\n",
            "WARNING:rpy2.rinterface_lib.callbacks:R[write to console]: =\n",
            "WARNING:rpy2.rinterface_lib.callbacks:R[write to console]: =\n",
            "WARNING:rpy2.rinterface_lib.callbacks:R[write to console]: =\n",
            "WARNING:rpy2.rinterface_lib.callbacks:R[write to console]: =\n",
            "WARNING:rpy2.rinterface_lib.callbacks:R[write to console]: =\n",
            "WARNING:rpy2.rinterface_lib.callbacks:R[write to console]: =\n",
            "WARNING:rpy2.rinterface_lib.callbacks:R[write to console]: =\n",
            "WARNING:rpy2.rinterface_lib.callbacks:R[write to console]: =\n",
            "WARNING:rpy2.rinterface_lib.callbacks:R[write to console]: =\n",
            "WARNING:rpy2.rinterface_lib.callbacks:R[write to console]: =\n",
            "WARNING:rpy2.rinterface_lib.callbacks:R[write to console]: =\n",
            "WARNING:rpy2.rinterface_lib.callbacks:R[write to console]: =\n",
            "WARNING:rpy2.rinterface_lib.callbacks:R[write to console]: =\n",
            "WARNING:rpy2.rinterface_lib.callbacks:R[write to console]: =\n",
            "WARNING:rpy2.rinterface_lib.callbacks:R[write to console]: =\n",
            "WARNING:rpy2.rinterface_lib.callbacks:R[write to console]: =\n",
            "WARNING:rpy2.rinterface_lib.callbacks:R[write to console]: =\n",
            "WARNING:rpy2.rinterface_lib.callbacks:R[write to console]: =\n",
            "WARNING:rpy2.rinterface_lib.callbacks:R[write to console]: =\n",
            "WARNING:rpy2.rinterface_lib.callbacks:R[write to console]: =\n",
            "WARNING:rpy2.rinterface_lib.callbacks:R[write to console]: =\n",
            "WARNING:rpy2.rinterface_lib.callbacks:R[write to console]: =\n",
            "WARNING:rpy2.rinterface_lib.callbacks:R[write to console]: =\n",
            "WARNING:rpy2.rinterface_lib.callbacks:R[write to console]: =\n",
            "WARNING:rpy2.rinterface_lib.callbacks:R[write to console]: =\n",
            "WARNING:rpy2.rinterface_lib.callbacks:R[write to console]: =\n",
            "WARNING:rpy2.rinterface_lib.callbacks:R[write to console]: =\n",
            "WARNING:rpy2.rinterface_lib.callbacks:R[write to console]: =\n",
            "WARNING:rpy2.rinterface_lib.callbacks:R[write to console]: =\n",
            "WARNING:rpy2.rinterface_lib.callbacks:R[write to console]: =\n",
            "WARNING:rpy2.rinterface_lib.callbacks:R[write to console]: =\n",
            "WARNING:rpy2.rinterface_lib.callbacks:R[write to console]: =\n",
            "WARNING:rpy2.rinterface_lib.callbacks:R[write to console]: =\n",
            "WARNING:rpy2.rinterface_lib.callbacks:R[write to console]: =\n",
            "WARNING:rpy2.rinterface_lib.callbacks:R[write to console]: =\n",
            "WARNING:rpy2.rinterface_lib.callbacks:R[write to console]: =\n",
            "WARNING:rpy2.rinterface_lib.callbacks:R[write to console]: =\n",
            "WARNING:rpy2.rinterface_lib.callbacks:R[write to console]: =\n",
            "WARNING:rpy2.rinterface_lib.callbacks:R[write to console]: =\n",
            "WARNING:rpy2.rinterface_lib.callbacks:R[write to console]: \n",
            "\n",
            "WARNING:rpy2.rinterface_lib.callbacks:R[write to console]: downloaded 548 KB\n",
            "\n",
            "\n",
            "WARNING:rpy2.rinterface_lib.callbacks:R[write to console]: \n",
            "\n",
            "WARNING:rpy2.rinterface_lib.callbacks:R[write to console]: \n",
            "WARNING:rpy2.rinterface_lib.callbacks:R[write to console]: The downloaded source packages are in\n",
            "\t‘/tmp/RtmpbW4gct/downloaded_packages’\n",
            "WARNING:rpy2.rinterface_lib.callbacks:R[write to console]: \n",
            "WARNING:rpy2.rinterface_lib.callbacks:R[write to console]: \n",
            "\n",
            "WARNING:rpy2.rinterface_lib.callbacks:R[write to console]: Installing package into ‘/usr/local/lib/R/site-library’\n",
            "(as ‘lib’ is unspecified)\n",
            "\n",
            "WARNING:rpy2.rinterface_lib.callbacks:R[write to console]: trying URL 'https://cran.rstudio.com/src/contrib/corrplot_0.92.tar.gz'\n",
            "\n",
            "WARNING:rpy2.rinterface_lib.callbacks:R[write to console]: Content type 'application/x-gzip'\n",
            "WARNING:rpy2.rinterface_lib.callbacks:R[write to console]:  length 3765850 bytes (3.6 MB)\n",
            "\n",
            "WARNING:rpy2.rinterface_lib.callbacks:R[write to console]: =\n",
            "WARNING:rpy2.rinterface_lib.callbacks:R[write to console]: =\n",
            "WARNING:rpy2.rinterface_lib.callbacks:R[write to console]: =\n",
            "WARNING:rpy2.rinterface_lib.callbacks:R[write to console]: =\n",
            "WARNING:rpy2.rinterface_lib.callbacks:R[write to console]: =\n",
            "WARNING:rpy2.rinterface_lib.callbacks:R[write to console]: =\n",
            "WARNING:rpy2.rinterface_lib.callbacks:R[write to console]: =\n",
            "WARNING:rpy2.rinterface_lib.callbacks:R[write to console]: =\n",
            "WARNING:rpy2.rinterface_lib.callbacks:R[write to console]: =\n",
            "WARNING:rpy2.rinterface_lib.callbacks:R[write to console]: =\n",
            "WARNING:rpy2.rinterface_lib.callbacks:R[write to console]: =\n",
            "WARNING:rpy2.rinterface_lib.callbacks:R[write to console]: =\n",
            "WARNING:rpy2.rinterface_lib.callbacks:R[write to console]: =\n",
            "WARNING:rpy2.rinterface_lib.callbacks:R[write to console]: =\n",
            "WARNING:rpy2.rinterface_lib.callbacks:R[write to console]: =\n",
            "WARNING:rpy2.rinterface_lib.callbacks:R[write to console]: =\n",
            "WARNING:rpy2.rinterface_lib.callbacks:R[write to console]: =\n",
            "WARNING:rpy2.rinterface_lib.callbacks:R[write to console]: =\n",
            "WARNING:rpy2.rinterface_lib.callbacks:R[write to console]: =\n",
            "WARNING:rpy2.rinterface_lib.callbacks:R[write to console]: =\n",
            "WARNING:rpy2.rinterface_lib.callbacks:R[write to console]: =\n",
            "WARNING:rpy2.rinterface_lib.callbacks:R[write to console]: =\n",
            "WARNING:rpy2.rinterface_lib.callbacks:R[write to console]: =\n",
            "WARNING:rpy2.rinterface_lib.callbacks:R[write to console]: =\n",
            "WARNING:rpy2.rinterface_lib.callbacks:R[write to console]: =\n",
            "WARNING:rpy2.rinterface_lib.callbacks:R[write to console]: =\n",
            "WARNING:rpy2.rinterface_lib.callbacks:R[write to console]: =\n",
            "WARNING:rpy2.rinterface_lib.callbacks:R[write to console]: =\n",
            "WARNING:rpy2.rinterface_lib.callbacks:R[write to console]: =\n",
            "WARNING:rpy2.rinterface_lib.callbacks:R[write to console]: =\n",
            "WARNING:rpy2.rinterface_lib.callbacks:R[write to console]: =\n",
            "WARNING:rpy2.rinterface_lib.callbacks:R[write to console]: =\n",
            "WARNING:rpy2.rinterface_lib.callbacks:R[write to console]: =\n",
            "WARNING:rpy2.rinterface_lib.callbacks:R[write to console]: =\n",
            "WARNING:rpy2.rinterface_lib.callbacks:R[write to console]: =\n",
            "WARNING:rpy2.rinterface_lib.callbacks:R[write to console]: =\n",
            "WARNING:rpy2.rinterface_lib.callbacks:R[write to console]: =\n",
            "WARNING:rpy2.rinterface_lib.callbacks:R[write to console]: =\n",
            "WARNING:rpy2.rinterface_lib.callbacks:R[write to console]: =\n",
            "WARNING:rpy2.rinterface_lib.callbacks:R[write to console]: =\n",
            "WARNING:rpy2.rinterface_lib.callbacks:R[write to console]: =\n",
            "WARNING:rpy2.rinterface_lib.callbacks:R[write to console]: =\n",
            "WARNING:rpy2.rinterface_lib.callbacks:R[write to console]: =\n",
            "WARNING:rpy2.rinterface_lib.callbacks:R[write to console]: =\n",
            "WARNING:rpy2.rinterface_lib.callbacks:R[write to console]: =\n",
            "WARNING:rpy2.rinterface_lib.callbacks:R[write to console]: =\n",
            "WARNING:rpy2.rinterface_lib.callbacks:R[write to console]: =\n",
            "WARNING:rpy2.rinterface_lib.callbacks:R[write to console]: =\n",
            "WARNING:rpy2.rinterface_lib.callbacks:R[write to console]: =\n",
            "WARNING:rpy2.rinterface_lib.callbacks:R[write to console]: =\n",
            "WARNING:rpy2.rinterface_lib.callbacks:R[write to console]: \n",
            "\n",
            "WARNING:rpy2.rinterface_lib.callbacks:R[write to console]: downloaded 3.6 MB\n",
            "\n",
            "\n",
            "WARNING:rpy2.rinterface_lib.callbacks:R[write to console]: \n",
            "\n",
            "WARNING:rpy2.rinterface_lib.callbacks:R[write to console]: \n",
            "WARNING:rpy2.rinterface_lib.callbacks:R[write to console]: The downloaded source packages are in\n",
            "\t‘/tmp/RtmpbW4gct/downloaded_packages’\n",
            "WARNING:rpy2.rinterface_lib.callbacks:R[write to console]: \n",
            "WARNING:rpy2.rinterface_lib.callbacks:R[write to console]: \n",
            "\n"
          ]
        }
      ],
      "source": [
        "%%R\n",
        "install.packages('performance')\n",
        "install.packages('car')\n",
        "install.packages(\"quantmod\")\n",
        "install.packages(\"MASS\")\n",
        "install.packages(\"corrplot\")"
      ]
    },
    {
      "cell_type": "code",
      "execution_count": null,
      "metadata": {
        "id": "A_mPUUyhBOkK",
        "colab": {
          "base_uri": "https://localhost:8080/"
        },
        "outputId": "79957698-4346-4ce8-8a2a-993b52928270"
      },
      "outputs": [
        {
          "output_type": "stream",
          "name": "stderr",
          "text": [
            "WARNING:rpy2.rinterface_lib.callbacks:R[write to console]: \n",
            "Attaching package: ‘dplyr’\n",
            "\n",
            "\n",
            "WARNING:rpy2.rinterface_lib.callbacks:R[write to console]: The following objects are masked from ‘package:stats’:\n",
            "\n",
            "    filter, lag\n",
            "\n",
            "\n",
            "WARNING:rpy2.rinterface_lib.callbacks:R[write to console]: The following objects are masked from ‘package:base’:\n",
            "\n",
            "    intersect, setdiff, setequal, union\n",
            "\n",
            "\n",
            "WARNING:rpy2.rinterface_lib.callbacks:R[write to console]: Loading required package: carData\n",
            "\n",
            "WARNING:rpy2.rinterface_lib.callbacks:R[write to console]: \n",
            "Attaching package: ‘car’\n",
            "\n",
            "\n",
            "WARNING:rpy2.rinterface_lib.callbacks:R[write to console]: The following object is masked from ‘package:dplyr’:\n",
            "\n",
            "    recode\n",
            "\n",
            "\n",
            "WARNING:rpy2.rinterface_lib.callbacks:R[write to console]: Loading required package: xts\n",
            "\n",
            "WARNING:rpy2.rinterface_lib.callbacks:R[write to console]: Loading required package: zoo\n",
            "\n",
            "WARNING:rpy2.rinterface_lib.callbacks:R[write to console]: \n",
            "Attaching package: ‘zoo’\n",
            "\n",
            "\n",
            "WARNING:rpy2.rinterface_lib.callbacks:R[write to console]: The following objects are masked from ‘package:base’:\n",
            "\n",
            "    as.Date, as.Date.numeric\n",
            "\n",
            "\n",
            "WARNING:rpy2.rinterface_lib.callbacks:R[write to console]: \n",
            "######################### Warning from 'xts' package ##########################\n",
            "#                                                                             #\n",
            "# The dplyr lag() function breaks how base R's lag() function is supposed to  #\n",
            "# work, which breaks lag(my_xts). Calls to lag(my_xts) that you type or       #\n",
            "# source() into this session won't work correctly.                            #\n",
            "#                                                                             #\n",
            "# Use stats::lag() to make sure you're not using dplyr::lag(), or you can add #\n",
            "# conflictRules('dplyr', exclude = 'lag') to your .Rprofile to stop           #\n",
            "# dplyr from breaking base R's lag() function.                                #\n",
            "#                                                                             #\n",
            "# Code in packages is not affected. It's protected by R's namespace mechanism #\n",
            "# Set `options(xts.warn_dplyr_breaks_lag = FALSE)` to suppress this warning.  #\n",
            "#                                                                             #\n",
            "###############################################################################\n",
            "\n",
            "WARNING:rpy2.rinterface_lib.callbacks:R[write to console]: \n",
            "Attaching package: ‘xts’\n",
            "\n",
            "\n",
            "WARNING:rpy2.rinterface_lib.callbacks:R[write to console]: The following objects are masked from ‘package:dplyr’:\n",
            "\n",
            "    first, last\n",
            "\n",
            "\n",
            "WARNING:rpy2.rinterface_lib.callbacks:R[write to console]: Loading required package: TTR\n",
            "\n",
            "WARNING:rpy2.rinterface_lib.callbacks:R[write to console]: Registered S3 method overwritten by 'quantmod':\n",
            "  method            from\n",
            "  as.zoo.data.frame zoo \n",
            "\n",
            "WARNING:rpy2.rinterface_lib.callbacks:R[write to console]: \n",
            "Attaching package: ‘MASS’\n",
            "\n",
            "\n",
            "WARNING:rpy2.rinterface_lib.callbacks:R[write to console]: The following object is masked from ‘package:dplyr’:\n",
            "\n",
            "    select\n",
            "\n",
            "\n",
            "WARNING:rpy2.rinterface_lib.callbacks:R[write to console]: corrplot 0.92 loaded\n",
            "\n"
          ]
        }
      ],
      "source": [
        "%%R\n",
        "library(dplyr)\n",
        "library(broom)\n",
        "library(car)\n",
        "library(quantmod)\n",
        "library(MASS)\n",
        "library(corrplot)\n",
        "library(performance)"
      ]
    },
    {
      "cell_type": "markdown",
      "source": [
        "# **Analysis for Sub-section: Gender Differences in LinkedIn Use**"
      ],
      "metadata": {
        "id": "KWKwd5HViGRk"
      }
    },
    {
      "cell_type": "markdown",
      "source": [
        "## Kolmogorov-Smirnov test"
      ],
      "metadata": {
        "id": "GNS9iaE-lZe2"
      }
    },
    {
      "cell_type": "code",
      "source": [
        "df = pd.read_csv(\"fullData.csv\")\n",
        "df.head()"
      ],
      "metadata": {
        "colab": {
          "base_uri": "https://localhost:8080/",
          "height": 206
        },
        "id": "5AZhzltZlc6X",
        "outputId": "160515a9-61cd-458b-dad0-0a78be325856"
      },
      "execution_count": null,
      "outputs": [
        {
          "output_type": "execute_result",
          "data": {
            "text/plain": [
              "  Country  Gender Job Seniority Age Range Recent Status  \\\n",
              "0      US  Female      Director       55+           Any   \n",
              "1      US  Female      Director       55+           Any   \n",
              "2      US  Female      Director  35 to 54     Relocated   \n",
              "3      US  Female      Director  35 to 54      Promoted   \n",
              "4      US  Female      Director  35 to 54      Promoted   \n",
              "\n",
              "          Social Connectivity  Count  \n",
              "0  Connected to big companies   8200  \n",
              "1                         Any  19000  \n",
              "2                         Any    390  \n",
              "3  Connected to big companies   2600  \n",
              "4                         Any   3700  "
            ],
            "text/html": [
              "\n",
              "\n",
              "  <div id=\"df-96e460f4-faf6-4cd5-9946-d42cd5e5b072\">\n",
              "    <div class=\"colab-df-container\">\n",
              "      <div>\n",
              "<style scoped>\n",
              "    .dataframe tbody tr th:only-of-type {\n",
              "        vertical-align: middle;\n",
              "    }\n",
              "\n",
              "    .dataframe tbody tr th {\n",
              "        vertical-align: top;\n",
              "    }\n",
              "\n",
              "    .dataframe thead th {\n",
              "        text-align: right;\n",
              "    }\n",
              "</style>\n",
              "<table border=\"1\" class=\"dataframe\">\n",
              "  <thead>\n",
              "    <tr style=\"text-align: right;\">\n",
              "      <th></th>\n",
              "      <th>Country</th>\n",
              "      <th>Gender</th>\n",
              "      <th>Job Seniority</th>\n",
              "      <th>Age Range</th>\n",
              "      <th>Recent Status</th>\n",
              "      <th>Social Connectivity</th>\n",
              "      <th>Count</th>\n",
              "    </tr>\n",
              "  </thead>\n",
              "  <tbody>\n",
              "    <tr>\n",
              "      <th>0</th>\n",
              "      <td>US</td>\n",
              "      <td>Female</td>\n",
              "      <td>Director</td>\n",
              "      <td>55+</td>\n",
              "      <td>Any</td>\n",
              "      <td>Connected to big companies</td>\n",
              "      <td>8200</td>\n",
              "    </tr>\n",
              "    <tr>\n",
              "      <th>1</th>\n",
              "      <td>US</td>\n",
              "      <td>Female</td>\n",
              "      <td>Director</td>\n",
              "      <td>55+</td>\n",
              "      <td>Any</td>\n",
              "      <td>Any</td>\n",
              "      <td>19000</td>\n",
              "    </tr>\n",
              "    <tr>\n",
              "      <th>2</th>\n",
              "      <td>US</td>\n",
              "      <td>Female</td>\n",
              "      <td>Director</td>\n",
              "      <td>35 to 54</td>\n",
              "      <td>Relocated</td>\n",
              "      <td>Any</td>\n",
              "      <td>390</td>\n",
              "    </tr>\n",
              "    <tr>\n",
              "      <th>3</th>\n",
              "      <td>US</td>\n",
              "      <td>Female</td>\n",
              "      <td>Director</td>\n",
              "      <td>35 to 54</td>\n",
              "      <td>Promoted</td>\n",
              "      <td>Connected to big companies</td>\n",
              "      <td>2600</td>\n",
              "    </tr>\n",
              "    <tr>\n",
              "      <th>4</th>\n",
              "      <td>US</td>\n",
              "      <td>Female</td>\n",
              "      <td>Director</td>\n",
              "      <td>35 to 54</td>\n",
              "      <td>Promoted</td>\n",
              "      <td>Any</td>\n",
              "      <td>3700</td>\n",
              "    </tr>\n",
              "  </tbody>\n",
              "</table>\n",
              "</div>\n",
              "      <button class=\"colab-df-convert\" onclick=\"convertToInteractive('df-96e460f4-faf6-4cd5-9946-d42cd5e5b072')\"\n",
              "              title=\"Convert this dataframe to an interactive table.\"\n",
              "              style=\"display:none;\">\n",
              "\n",
              "  <svg xmlns=\"http://www.w3.org/2000/svg\" height=\"24px\"viewBox=\"0 0 24 24\"\n",
              "       width=\"24px\">\n",
              "    <path d=\"M0 0h24v24H0V0z\" fill=\"none\"/>\n",
              "    <path d=\"M18.56 5.44l.94 2.06.94-2.06 2.06-.94-2.06-.94-.94-2.06-.94 2.06-2.06.94zm-11 1L8.5 8.5l.94-2.06 2.06-.94-2.06-.94L8.5 2.5l-.94 2.06-2.06.94zm10 10l.94 2.06.94-2.06 2.06-.94-2.06-.94-.94-2.06-.94 2.06-2.06.94z\"/><path d=\"M17.41 7.96l-1.37-1.37c-.4-.4-.92-.59-1.43-.59-.52 0-1.04.2-1.43.59L10.3 9.45l-7.72 7.72c-.78.78-.78 2.05 0 2.83L4 21.41c.39.39.9.59 1.41.59.51 0 1.02-.2 1.41-.59l7.78-7.78 2.81-2.81c.8-.78.8-2.07 0-2.86zM5.41 20L4 18.59l7.72-7.72 1.47 1.35L5.41 20z\"/>\n",
              "  </svg>\n",
              "      </button>\n",
              "\n",
              "\n",
              "\n",
              "    <div id=\"df-7aed230b-c4d1-4941-8684-12307001d574\">\n",
              "      <button class=\"colab-df-quickchart\" onclick=\"quickchart('df-7aed230b-c4d1-4941-8684-12307001d574')\"\n",
              "              title=\"Suggest charts.\"\n",
              "              style=\"display:none;\">\n",
              "\n",
              "<svg xmlns=\"http://www.w3.org/2000/svg\" height=\"24px\"viewBox=\"0 0 24 24\"\n",
              "     width=\"24px\">\n",
              "    <g>\n",
              "        <path d=\"M19 3H5c-1.1 0-2 .9-2 2v14c0 1.1.9 2 2 2h14c1.1 0 2-.9 2-2V5c0-1.1-.9-2-2-2zM9 17H7v-7h2v7zm4 0h-2V7h2v10zm4 0h-2v-4h2v4z\"/>\n",
              "    </g>\n",
              "</svg>\n",
              "      </button>\n",
              "    </div>\n",
              "\n",
              "<style>\n",
              "  .colab-df-quickchart {\n",
              "    background-color: #E8F0FE;\n",
              "    border: none;\n",
              "    border-radius: 50%;\n",
              "    cursor: pointer;\n",
              "    display: none;\n",
              "    fill: #1967D2;\n",
              "    height: 32px;\n",
              "    padding: 0 0 0 0;\n",
              "    width: 32px;\n",
              "  }\n",
              "\n",
              "  .colab-df-quickchart:hover {\n",
              "    background-color: #E2EBFA;\n",
              "    box-shadow: 0px 1px 2px rgba(60, 64, 67, 0.3), 0px 1px 3px 1px rgba(60, 64, 67, 0.15);\n",
              "    fill: #174EA6;\n",
              "  }\n",
              "\n",
              "  [theme=dark] .colab-df-quickchart {\n",
              "    background-color: #3B4455;\n",
              "    fill: #D2E3FC;\n",
              "  }\n",
              "\n",
              "  [theme=dark] .colab-df-quickchart:hover {\n",
              "    background-color: #434B5C;\n",
              "    box-shadow: 0px 1px 3px 1px rgba(0, 0, 0, 0.15);\n",
              "    filter: drop-shadow(0px 1px 2px rgba(0, 0, 0, 0.3));\n",
              "    fill: #FFFFFF;\n",
              "  }\n",
              "</style>\n",
              "\n",
              "    <script>\n",
              "      async function quickchart(key) {\n",
              "        const containerElement = document.querySelector('#' + key);\n",
              "        const charts = await google.colab.kernel.invokeFunction(\n",
              "            'suggestCharts', [key], {});\n",
              "      }\n",
              "    </script>\n",
              "\n",
              "      <script>\n",
              "\n",
              "function displayQuickchartButton(domScope) {\n",
              "  let quickchartButtonEl =\n",
              "    domScope.querySelector('#df-7aed230b-c4d1-4941-8684-12307001d574 button.colab-df-quickchart');\n",
              "  quickchartButtonEl.style.display =\n",
              "    google.colab.kernel.accessAllowed ? 'block' : 'none';\n",
              "}\n",
              "\n",
              "        displayQuickchartButton(document);\n",
              "      </script>\n",
              "      <style>\n",
              "    .colab-df-container {\n",
              "      display:flex;\n",
              "      flex-wrap:wrap;\n",
              "      gap: 12px;\n",
              "    }\n",
              "\n",
              "    .colab-df-convert {\n",
              "      background-color: #E8F0FE;\n",
              "      border: none;\n",
              "      border-radius: 50%;\n",
              "      cursor: pointer;\n",
              "      display: none;\n",
              "      fill: #1967D2;\n",
              "      height: 32px;\n",
              "      padding: 0 0 0 0;\n",
              "      width: 32px;\n",
              "    }\n",
              "\n",
              "    .colab-df-convert:hover {\n",
              "      background-color: #E2EBFA;\n",
              "      box-shadow: 0px 1px 2px rgba(60, 64, 67, 0.3), 0px 1px 3px 1px rgba(60, 64, 67, 0.15);\n",
              "      fill: #174EA6;\n",
              "    }\n",
              "\n",
              "    [theme=dark] .colab-df-convert {\n",
              "      background-color: #3B4455;\n",
              "      fill: #D2E3FC;\n",
              "    }\n",
              "\n",
              "    [theme=dark] .colab-df-convert:hover {\n",
              "      background-color: #434B5C;\n",
              "      box-shadow: 0px 1px 3px 1px rgba(0, 0, 0, 0.15);\n",
              "      filter: drop-shadow(0px 1px 2px rgba(0, 0, 0, 0.3));\n",
              "      fill: #FFFFFF;\n",
              "    }\n",
              "  </style>\n",
              "\n",
              "      <script>\n",
              "        const buttonEl =\n",
              "          document.querySelector('#df-96e460f4-faf6-4cd5-9946-d42cd5e5b072 button.colab-df-convert');\n",
              "        buttonEl.style.display =\n",
              "          google.colab.kernel.accessAllowed ? 'block' : 'none';\n",
              "\n",
              "        async function convertToInteractive(key) {\n",
              "          const element = document.querySelector('#df-96e460f4-faf6-4cd5-9946-d42cd5e5b072');\n",
              "          const dataTable =\n",
              "            await google.colab.kernel.invokeFunction('convertToInteractive',\n",
              "                                                     [key], {});\n",
              "          if (!dataTable) return;\n",
              "\n",
              "          const docLinkHtml = 'Like what you see? Visit the ' +\n",
              "            '<a target=\"_blank\" href=https://colab.research.google.com/notebooks/data_table.ipynb>data table notebook</a>'\n",
              "            + ' to learn more about interactive tables.';\n",
              "          element.innerHTML = '';\n",
              "          dataTable['output_type'] = 'display_data';\n",
              "          await google.colab.output.renderOutput(dataTable, element);\n",
              "          const docLink = document.createElement('div');\n",
              "          docLink.innerHTML = docLinkHtml;\n",
              "          element.appendChild(docLink);\n",
              "        }\n",
              "      </script>\n",
              "    </div>\n",
              "  </div>\n"
            ]
          },
          "metadata": {},
          "execution_count": 30
        }
      ]
    },
    {
      "cell_type": "code",
      "source": [
        "df = df[df[\"Recent Status\"] == \"Any\"]\n",
        "df = df[df[\"Social Connectivity\"] == \"Any\"]"
      ],
      "metadata": {
        "id": "GB9He8oglmd5"
      },
      "execution_count": null,
      "outputs": []
    },
    {
      "cell_type": "code",
      "source": [
        "femalesSeniority = []\n",
        "malesSeniority = []"
      ],
      "metadata": {
        "id": "c4N7OmFqlqge"
      },
      "execution_count": null,
      "outputs": []
    },
    {
      "cell_type": "code",
      "source": [
        "for index, row in df.iterrows():\n",
        "  if row[\"Gender\"] == \"Female\":\n",
        "    for i in range(row[\"Count\"]):\n",
        "      femalesSeniority.append(row[\"Job Seniority\"])"
      ],
      "metadata": {
        "id": "QzYjFC7eltmH"
      },
      "execution_count": null,
      "outputs": []
    },
    {
      "cell_type": "code",
      "source": [
        "for index, row in df.iterrows():\n",
        "  if row[\"Gender\"] == \"Male\":\n",
        "    for i in range(row[\"Count\"]):\n",
        "      malesSeniority.append(row[\"Job Seniority\"])"
      ],
      "metadata": {
        "id": "91tl9xm9lwCK"
      },
      "execution_count": null,
      "outputs": []
    },
    {
      "cell_type": "code",
      "source": [
        "ks_2samp(femalesSeniority, malesSeniority)"
      ],
      "metadata": {
        "colab": {
          "base_uri": "https://localhost:8080/"
        },
        "id": "Jt9-cYbSl2la",
        "outputId": "9e7ed025-6055-4159-ac96-3c7b042d1a44"
      },
      "execution_count": null,
      "outputs": [
        {
          "output_type": "execute_result",
          "data": {
            "text/plain": [
              "KstestResult(statistic=0.02828602419737683, pvalue=0.0, statistic_location='Director', statistic_sign=-1)"
            ]
          },
          "metadata": {},
          "execution_count": 36
        }
      ]
    },
    {
      "cell_type": "markdown",
      "source": [
        "# **Analysis for Sub-section: Promotion and Relocation Reports by Gender**"
      ],
      "metadata": {
        "id": "04fh2AjahgOp"
      }
    },
    {
      "cell_type": "markdown",
      "metadata": {
        "id": "Jvv1o9D4VtTG"
      },
      "source": [
        "## Z - tests"
      ]
    },
    {
      "cell_type": "markdown",
      "metadata": {
        "id": "NeqK6jTrzAGf"
      },
      "source": [
        "### Age-Adjusted Promotion Reports"
      ]
    },
    {
      "cell_type": "code",
      "execution_count": null,
      "metadata": {
        "id": "Qt5xJpYf0Ovk"
      },
      "outputs": [],
      "source": [
        "n1 = 3626000\n",
        "n2 = 6109600"
      ]
    },
    {
      "cell_type": "code",
      "execution_count": null,
      "metadata": {
        "id": "p0TcSFw104hR"
      },
      "outputs": [],
      "source": [
        "ratio1 = 0.01173\n",
        "ratio2 = 0.01101"
      ]
    },
    {
      "cell_type": "code",
      "execution_count": null,
      "metadata": {
        "id": "Vvoga1-90tBv"
      },
      "outputs": [],
      "source": [
        "success1 = ratio1 * n1\n",
        "success2 = ratio2 * n2"
      ]
    },
    {
      "cell_type": "code",
      "execution_count": null,
      "metadata": {
        "colab": {
          "base_uri": "https://localhost:8080/"
        },
        "id": "5Wugxc-nyi8T",
        "outputId": "93decc92-50e3-4054-a956-6d5f1e8f7dbd"
      },
      "outputs": [
        {
          "data": {
            "text/plain": [
              "0.011278162208800692"
            ]
          },
          "execution_count": 11,
          "metadata": {},
          "output_type": "execute_result"
        }
      ],
      "source": [
        "p_pool = (success1 + success2) / (n1 + n2)\n",
        "p_pool"
      ]
    },
    {
      "cell_type": "code",
      "execution_count": null,
      "metadata": {
        "colab": {
          "base_uri": "https://localhost:8080/"
        },
        "id": "8kOmRjMH0CMr",
        "outputId": "761a3b89-4495-4e9f-f154-db9e8e75603d"
      },
      "outputs": [
        {
          "data": {
            "text/plain": [
              "7.000310503316451e-05"
            ]
          },
          "execution_count": 12,
          "metadata": {},
          "output_type": "execute_result"
        }
      ],
      "source": [
        "se = np.sqrt((p_pool * (1 - p_pool))/n1 + (p_pool * (1 - p_pool))/n2)\n",
        "se"
      ]
    },
    {
      "cell_type": "code",
      "execution_count": null,
      "metadata": {
        "colab": {
          "base_uri": "https://localhost:8080/"
        },
        "id": "1U8I7GzW1FTm",
        "outputId": "9a08d788-9459-4978-80aa-598d7875badf"
      },
      "outputs": [
        {
          "data": {
            "text/plain": [
              "10.28525805618043"
            ]
          },
          "execution_count": 14,
          "metadata": {},
          "output_type": "execute_result"
        }
      ],
      "source": [
        "z_score = (ratio1 - ratio2) / se\n",
        "z_score"
      ]
    },
    {
      "cell_type": "code",
      "execution_count": null,
      "metadata": {
        "colab": {
          "base_uri": "https://localhost:8080/"
        },
        "id": "q8bgJjeuV8z0",
        "outputId": "c7e9976f-5e8d-4686-e9c5-4138e6e9afa6"
      },
      "outputs": [
        {
          "name": "stdout",
          "output_type": "stream",
          "text": [
            "[1] 4.10609e-25\n"
          ]
        }
      ],
      "source": [
        "%%R\n",
        "pnorm(10.28525805618043, lower.tail = FALSE)"
      ]
    },
    {
      "cell_type": "markdown",
      "metadata": {
        "id": "HJP71ARG1e18"
      },
      "source": [
        "### Seniority-Adjusted Promotion Reports"
      ]
    },
    {
      "cell_type": "code",
      "execution_count": null,
      "metadata": {
        "colab": {
          "base_uri": "https://localhost:8080/"
        },
        "id": "1CFJ-iYW1uOq",
        "outputId": "f34cb7f0-4f26-49b1-dc8a-586edf49b05c"
      },
      "outputs": [
        {
          "data": {
            "text/plain": [
              "0.01060238"
            ]
          },
          "execution_count": 19,
          "metadata": {},
          "output_type": "execute_result"
        }
      ],
      "source": [
        "1060.238 / 100000"
      ]
    },
    {
      "cell_type": "code",
      "execution_count": null,
      "metadata": {
        "id": "zz1wsBSG1egF"
      },
      "outputs": [],
      "source": [
        "ratio1 = 0.01259\n",
        "ratio2 = 0.01060"
      ]
    },
    {
      "cell_type": "code",
      "execution_count": null,
      "metadata": {
        "id": "RJlD-5TT1971"
      },
      "outputs": [],
      "source": [
        "success1 = ratio1 * n1\n",
        "success2 = ratio2 * n2"
      ]
    },
    {
      "cell_type": "code",
      "execution_count": null,
      "metadata": {
        "colab": {
          "base_uri": "https://localhost:8080/"
        },
        "id": "q3tjDGpX2Acr",
        "outputId": "84168c2d-d8bd-475c-a7a4-8e87e2fd3cdc"
      },
      "outputs": [
        {
          "data": {
            "text/plain": [
              "0.01134117054932413"
            ]
          },
          "execution_count": 22,
          "metadata": {},
          "output_type": "execute_result"
        }
      ],
      "source": [
        "p_pool = (success1 + success2) / (n1 + n2)\n",
        "p_pool"
      ]
    },
    {
      "cell_type": "code",
      "execution_count": null,
      "metadata": {
        "colab": {
          "base_uri": "https://localhost:8080/"
        },
        "id": "TB9NkRQh2DD4",
        "outputId": "016c881a-689c-48af-82df-6a7cbf578013"
      },
      "outputs": [
        {
          "data": {
            "text/plain": [
              "7.019614100771793e-05"
            ]
          },
          "execution_count": 23,
          "metadata": {},
          "output_type": "execute_result"
        }
      ],
      "source": [
        "se = np.sqrt((p_pool * (1 - p_pool))/n1 + (p_pool * (1 - p_pool))/n2)\n",
        "se"
      ]
    },
    {
      "cell_type": "code",
      "execution_count": null,
      "metadata": {
        "colab": {
          "base_uri": "https://localhost:8080/"
        },
        "id": "mTjOCU_J2E85",
        "outputId": "be373dfe-36e0-404b-8e97-ba829fb15fbb"
      },
      "outputs": [
        {
          "data": {
            "text/plain": [
              "28.34913673931454"
            ]
          },
          "execution_count": 24,
          "metadata": {},
          "output_type": "execute_result"
        }
      ],
      "source": [
        "z_score = (ratio1 - ratio2) / se\n",
        "z_score"
      ]
    },
    {
      "cell_type": "code",
      "execution_count": null,
      "metadata": {
        "colab": {
          "base_uri": "https://localhost:8080/"
        },
        "id": "qFxH1jPf2KWH",
        "outputId": "5f037ed9-1964-432b-e673-4770068f20c4"
      },
      "outputs": [
        {
          "name": "stdout",
          "output_type": "stream",
          "text": [
            "[1] 4.288809e-177\n"
          ]
        }
      ],
      "source": [
        "%%R\n",
        "pnorm(28.34913673931454, lower.tail = FALSE)"
      ]
    },
    {
      "cell_type": "markdown",
      "metadata": {
        "id": "3S9TjQBr2WfD"
      },
      "source": [
        "### Age-Adjusted Relocation Reports"
      ]
    },
    {
      "cell_type": "code",
      "execution_count": null,
      "metadata": {
        "colab": {
          "base_uri": "https://localhost:8080/"
        },
        "id": "MGODSIjw2dqJ",
        "outputId": "d2c499c4-2256-4827-dd5a-db609afd29a0"
      },
      "outputs": [
        {
          "data": {
            "text/plain": [
              "0.01399"
            ]
          },
          "execution_count": 27,
          "metadata": {},
          "output_type": "execute_result"
        }
      ],
      "source": [
        "1399 / 100000"
      ]
    },
    {
      "cell_type": "code",
      "execution_count": null,
      "metadata": {
        "id": "UmN8aJsc2jEf"
      },
      "outputs": [],
      "source": [
        "ratio1 = 0.011402\n",
        "ratio2 = 0.01399"
      ]
    },
    {
      "cell_type": "code",
      "execution_count": null,
      "metadata": {
        "id": "ezPBli-e2vXh"
      },
      "outputs": [],
      "source": [
        "success1 = ratio1 * n1\n",
        "success2 = ratio2 * n2"
      ]
    },
    {
      "cell_type": "code",
      "execution_count": null,
      "metadata": {
        "colab": {
          "base_uri": "https://localhost:8080/"
        },
        "id": "uNyUB0kr22dI",
        "outputId": "281272d3-2178-4f35-b8da-bcd029313b87"
      },
      "outputs": [
        {
          "data": {
            "text/plain": [
              "0.013026105838366409"
            ]
          },
          "execution_count": 31,
          "metadata": {},
          "output_type": "execute_result"
        }
      ],
      "source": [
        "p_pool = (success1 + success2) / (n1 + n2)\n",
        "p_pool"
      ]
    },
    {
      "cell_type": "code",
      "execution_count": null,
      "metadata": {
        "colab": {
          "base_uri": "https://localhost:8080/"
        },
        "id": "I4TsGj3w26uq",
        "outputId": "3144dafa-d294-4231-b745-7a72997f5a79"
      },
      "outputs": [
        {
          "data": {
            "text/plain": [
              "7.516595962925052e-05"
            ]
          },
          "execution_count": 32,
          "metadata": {},
          "output_type": "execute_result"
        }
      ],
      "source": [
        "se = np.sqrt((p_pool * (1 - p_pool))/n1 + (p_pool * (1 - p_pool))/n2)\n",
        "se"
      ]
    },
    {
      "cell_type": "code",
      "execution_count": null,
      "metadata": {
        "colab": {
          "base_uri": "https://localhost:8080/"
        },
        "id": "_A9k_yxO29-p",
        "outputId": "1807ba7b-4586-4147-f149-87785cb5b78f"
      },
      "outputs": [
        {
          "data": {
            "text/plain": [
              "-34.430479072775526"
            ]
          },
          "execution_count": 34,
          "metadata": {},
          "output_type": "execute_result"
        }
      ],
      "source": [
        "z_score = (ratio1- ratio2) / se\n",
        "z_score"
      ]
    },
    {
      "cell_type": "code",
      "execution_count": null,
      "metadata": {
        "colab": {
          "base_uri": "https://localhost:8080/"
        },
        "id": "sJb4XulQ3EyD",
        "outputId": "5c6b50e4-e0b1-4271-cb9e-5eec53e1acbb"
      },
      "outputs": [
        {
          "name": "stdout",
          "output_type": "stream",
          "text": [
            "[1] 4.412569e-260\n"
          ]
        }
      ],
      "source": [
        "%%R\n",
        "pnorm(-34.430479072775526, lower.tail = TRUE)"
      ]
    },
    {
      "cell_type": "markdown",
      "metadata": {
        "id": "-P1elagX3RF8"
      },
      "source": [
        "### Seniority-Adjusted Relocation Reports"
      ]
    },
    {
      "cell_type": "code",
      "execution_count": null,
      "metadata": {
        "colab": {
          "base_uri": "https://localhost:8080/"
        },
        "id": "3ADal1ku3U54",
        "outputId": "ba0d3d09-dc93-443c-b4ef-d1302322994c"
      },
      "outputs": [
        {
          "data": {
            "text/plain": [
              "0.014016530000000001"
            ]
          },
          "execution_count": 38,
          "metadata": {},
          "output_type": "execute_result"
        }
      ],
      "source": [
        "1401.653 / 100000"
      ]
    },
    {
      "cell_type": "code",
      "execution_count": null,
      "metadata": {
        "id": "xqkm0n6I3bLh"
      },
      "outputs": [],
      "source": [
        "ratio1 = 0.01380\n",
        "ratio2 = 0.01402"
      ]
    },
    {
      "cell_type": "code",
      "execution_count": null,
      "metadata": {
        "id": "LOE7XMyd3pvv"
      },
      "outputs": [],
      "source": [
        "success1 = ratio1 * n1\n",
        "success2 = ratio2 * n2"
      ]
    },
    {
      "cell_type": "code",
      "execution_count": null,
      "metadata": {
        "colab": {
          "base_uri": "https://localhost:8080/"
        },
        "id": "i1wKBuL23sP7",
        "outputId": "cdd0e2b3-bed2-486d-eed8-f7baf41f014e"
      },
      "outputs": [
        {
          "data": {
            "text/plain": [
              "0.0139380615473109"
            ]
          },
          "execution_count": 41,
          "metadata": {},
          "output_type": "execute_result"
        }
      ],
      "source": [
        "p_pool = (success1 + success2) / (n1 + n2)\n",
        "p_pool"
      ]
    },
    {
      "cell_type": "code",
      "execution_count": null,
      "metadata": {
        "colab": {
          "base_uri": "https://localhost:8080/"
        },
        "id": "X0G4XnRM3umw",
        "outputId": "46325aed-ff6b-405e-9f6d-55b1160a4c90"
      },
      "outputs": [
        {
          "data": {
            "text/plain": [
              "7.771670138432112e-05"
            ]
          },
          "execution_count": 42,
          "metadata": {},
          "output_type": "execute_result"
        }
      ],
      "source": [
        "se = np.sqrt((p_pool * (1 - p_pool))/n1 + (p_pool * (1 - p_pool))/n2)\n",
        "se"
      ]
    },
    {
      "cell_type": "code",
      "execution_count": null,
      "metadata": {
        "colab": {
          "base_uri": "https://localhost:8080/"
        },
        "id": "IXSEtF5z3xk8",
        "outputId": "40eff3de-873b-4f8b-aa59-e6922811156c"
      },
      "outputs": [
        {
          "data": {
            "text/plain": [
              "-2.8307943605592016"
            ]
          },
          "execution_count": 43,
          "metadata": {},
          "output_type": "execute_result"
        }
      ],
      "source": [
        "z_score = (ratio1- ratio2) / se\n",
        "z_score"
      ]
    },
    {
      "cell_type": "code",
      "execution_count": null,
      "metadata": {
        "colab": {
          "base_uri": "https://localhost:8080/"
        },
        "id": "Vr8clFGu303C",
        "outputId": "ab8e5034-283a-45ec-da43-0b187e9eb1d6"
      },
      "outputs": [
        {
          "name": "stdout",
          "output_type": "stream",
          "text": [
            "[1] 0.002321628\n"
          ]
        }
      ],
      "source": [
        "%%R\n",
        "pnorm(-2.8307943605592016, lower.tail = TRUE)"
      ]
    },
    {
      "cell_type": "markdown",
      "source": [
        "# **Analysis for Sub-section: Relationship between Social Connectivity and Status Reports**"
      ],
      "metadata": {
        "id": "LHvnaUVQgBf7"
      }
    },
    {
      "cell_type": "markdown",
      "metadata": {
        "id": "7Qwv5jCVqEwI"
      },
      "source": [
        "## Promotion Data Analysis"
      ]
    },
    {
      "cell_type": "code",
      "execution_count": null,
      "metadata": {
        "id": "YTwEZtE3c8bK",
        "colab": {
          "base_uri": "https://localhost:8080/",
          "height": 206
        },
        "outputId": "7e5c44e7-be81-4195-b760-8032a62b3193"
      },
      "outputs": [
        {
          "output_type": "execute_result",
          "data": {
            "text/plain": [
              "  Country  Gender Job Seniority Age Range      Recent Status  \\\n",
              "0      US  Female      Director       55+       Not promoted   \n",
              "1      US  Female      Director       55+       Not promoted   \n",
              "2      US  Female      Director  35 to 54  Recently promoted   \n",
              "3      US  Female      Director  35 to 54  Recently promoted   \n",
              "4      US  Female      Director  35 to 54       Not promoted   \n",
              "\n",
              "          Social Connectivity  Count  \n",
              "0  Connected to big companies   8200  \n",
              "1               Not connected  10800  \n",
              "2  Connected to big companies   2600  \n",
              "3               Not connected   1100  \n",
              "4  Connected to big companies  64400  "
            ],
            "text/html": [
              "\n",
              "\n",
              "  <div id=\"df-796b1a2d-6b3a-45fc-b80c-4125071c69ea\">\n",
              "    <div class=\"colab-df-container\">\n",
              "      <div>\n",
              "<style scoped>\n",
              "    .dataframe tbody tr th:only-of-type {\n",
              "        vertical-align: middle;\n",
              "    }\n",
              "\n",
              "    .dataframe tbody tr th {\n",
              "        vertical-align: top;\n",
              "    }\n",
              "\n",
              "    .dataframe thead th {\n",
              "        text-align: right;\n",
              "    }\n",
              "</style>\n",
              "<table border=\"1\" class=\"dataframe\">\n",
              "  <thead>\n",
              "    <tr style=\"text-align: right;\">\n",
              "      <th></th>\n",
              "      <th>Country</th>\n",
              "      <th>Gender</th>\n",
              "      <th>Job Seniority</th>\n",
              "      <th>Age Range</th>\n",
              "      <th>Recent Status</th>\n",
              "      <th>Social Connectivity</th>\n",
              "      <th>Count</th>\n",
              "    </tr>\n",
              "  </thead>\n",
              "  <tbody>\n",
              "    <tr>\n",
              "      <th>0</th>\n",
              "      <td>US</td>\n",
              "      <td>Female</td>\n",
              "      <td>Director</td>\n",
              "      <td>55+</td>\n",
              "      <td>Not promoted</td>\n",
              "      <td>Connected to big companies</td>\n",
              "      <td>8200</td>\n",
              "    </tr>\n",
              "    <tr>\n",
              "      <th>1</th>\n",
              "      <td>US</td>\n",
              "      <td>Female</td>\n",
              "      <td>Director</td>\n",
              "      <td>55+</td>\n",
              "      <td>Not promoted</td>\n",
              "      <td>Not connected</td>\n",
              "      <td>10800</td>\n",
              "    </tr>\n",
              "    <tr>\n",
              "      <th>2</th>\n",
              "      <td>US</td>\n",
              "      <td>Female</td>\n",
              "      <td>Director</td>\n",
              "      <td>35 to 54</td>\n",
              "      <td>Recently promoted</td>\n",
              "      <td>Connected to big companies</td>\n",
              "      <td>2600</td>\n",
              "    </tr>\n",
              "    <tr>\n",
              "      <th>3</th>\n",
              "      <td>US</td>\n",
              "      <td>Female</td>\n",
              "      <td>Director</td>\n",
              "      <td>35 to 54</td>\n",
              "      <td>Recently promoted</td>\n",
              "      <td>Not connected</td>\n",
              "      <td>1100</td>\n",
              "    </tr>\n",
              "    <tr>\n",
              "      <th>4</th>\n",
              "      <td>US</td>\n",
              "      <td>Female</td>\n",
              "      <td>Director</td>\n",
              "      <td>35 to 54</td>\n",
              "      <td>Not promoted</td>\n",
              "      <td>Connected to big companies</td>\n",
              "      <td>64400</td>\n",
              "    </tr>\n",
              "  </tbody>\n",
              "</table>\n",
              "</div>\n",
              "      <button class=\"colab-df-convert\" onclick=\"convertToInteractive('df-796b1a2d-6b3a-45fc-b80c-4125071c69ea')\"\n",
              "              title=\"Convert this dataframe to an interactive table.\"\n",
              "              style=\"display:none;\">\n",
              "\n",
              "  <svg xmlns=\"http://www.w3.org/2000/svg\" height=\"24px\"viewBox=\"0 0 24 24\"\n",
              "       width=\"24px\">\n",
              "    <path d=\"M0 0h24v24H0V0z\" fill=\"none\"/>\n",
              "    <path d=\"M18.56 5.44l.94 2.06.94-2.06 2.06-.94-2.06-.94-.94-2.06-.94 2.06-2.06.94zm-11 1L8.5 8.5l.94-2.06 2.06-.94-2.06-.94L8.5 2.5l-.94 2.06-2.06.94zm10 10l.94 2.06.94-2.06 2.06-.94-2.06-.94-.94-2.06-.94 2.06-2.06.94z\"/><path d=\"M17.41 7.96l-1.37-1.37c-.4-.4-.92-.59-1.43-.59-.52 0-1.04.2-1.43.59L10.3 9.45l-7.72 7.72c-.78.78-.78 2.05 0 2.83L4 21.41c.39.39.9.59 1.41.59.51 0 1.02-.2 1.41-.59l7.78-7.78 2.81-2.81c.8-.78.8-2.07 0-2.86zM5.41 20L4 18.59l7.72-7.72 1.47 1.35L5.41 20z\"/>\n",
              "  </svg>\n",
              "      </button>\n",
              "\n",
              "\n",
              "\n",
              "    <div id=\"df-674a8f8c-a35a-4dc6-a8f7-9ae6056edf1a\">\n",
              "      <button class=\"colab-df-quickchart\" onclick=\"quickchart('df-674a8f8c-a35a-4dc6-a8f7-9ae6056edf1a')\"\n",
              "              title=\"Suggest charts.\"\n",
              "              style=\"display:none;\">\n",
              "\n",
              "<svg xmlns=\"http://www.w3.org/2000/svg\" height=\"24px\"viewBox=\"0 0 24 24\"\n",
              "     width=\"24px\">\n",
              "    <g>\n",
              "        <path d=\"M19 3H5c-1.1 0-2 .9-2 2v14c0 1.1.9 2 2 2h14c1.1 0 2-.9 2-2V5c0-1.1-.9-2-2-2zM9 17H7v-7h2v7zm4 0h-2V7h2v10zm4 0h-2v-4h2v4z\"/>\n",
              "    </g>\n",
              "</svg>\n",
              "      </button>\n",
              "    </div>\n",
              "\n",
              "<style>\n",
              "  .colab-df-quickchart {\n",
              "    background-color: #E8F0FE;\n",
              "    border: none;\n",
              "    border-radius: 50%;\n",
              "    cursor: pointer;\n",
              "    display: none;\n",
              "    fill: #1967D2;\n",
              "    height: 32px;\n",
              "    padding: 0 0 0 0;\n",
              "    width: 32px;\n",
              "  }\n",
              "\n",
              "  .colab-df-quickchart:hover {\n",
              "    background-color: #E2EBFA;\n",
              "    box-shadow: 0px 1px 2px rgba(60, 64, 67, 0.3), 0px 1px 3px 1px rgba(60, 64, 67, 0.15);\n",
              "    fill: #174EA6;\n",
              "  }\n",
              "\n",
              "  [theme=dark] .colab-df-quickchart {\n",
              "    background-color: #3B4455;\n",
              "    fill: #D2E3FC;\n",
              "  }\n",
              "\n",
              "  [theme=dark] .colab-df-quickchart:hover {\n",
              "    background-color: #434B5C;\n",
              "    box-shadow: 0px 1px 3px 1px rgba(0, 0, 0, 0.15);\n",
              "    filter: drop-shadow(0px 1px 2px rgba(0, 0, 0, 0.3));\n",
              "    fill: #FFFFFF;\n",
              "  }\n",
              "</style>\n",
              "\n",
              "    <script>\n",
              "      async function quickchart(key) {\n",
              "        const containerElement = document.querySelector('#' + key);\n",
              "        const charts = await google.colab.kernel.invokeFunction(\n",
              "            'suggestCharts', [key], {});\n",
              "      }\n",
              "    </script>\n",
              "\n",
              "      <script>\n",
              "\n",
              "function displayQuickchartButton(domScope) {\n",
              "  let quickchartButtonEl =\n",
              "    domScope.querySelector('#df-674a8f8c-a35a-4dc6-a8f7-9ae6056edf1a button.colab-df-quickchart');\n",
              "  quickchartButtonEl.style.display =\n",
              "    google.colab.kernel.accessAllowed ? 'block' : 'none';\n",
              "}\n",
              "\n",
              "        displayQuickchartButton(document);\n",
              "      </script>\n",
              "      <style>\n",
              "    .colab-df-container {\n",
              "      display:flex;\n",
              "      flex-wrap:wrap;\n",
              "      gap: 12px;\n",
              "    }\n",
              "\n",
              "    .colab-df-convert {\n",
              "      background-color: #E8F0FE;\n",
              "      border: none;\n",
              "      border-radius: 50%;\n",
              "      cursor: pointer;\n",
              "      display: none;\n",
              "      fill: #1967D2;\n",
              "      height: 32px;\n",
              "      padding: 0 0 0 0;\n",
              "      width: 32px;\n",
              "    }\n",
              "\n",
              "    .colab-df-convert:hover {\n",
              "      background-color: #E2EBFA;\n",
              "      box-shadow: 0px 1px 2px rgba(60, 64, 67, 0.3), 0px 1px 3px 1px rgba(60, 64, 67, 0.15);\n",
              "      fill: #174EA6;\n",
              "    }\n",
              "\n",
              "    [theme=dark] .colab-df-convert {\n",
              "      background-color: #3B4455;\n",
              "      fill: #D2E3FC;\n",
              "    }\n",
              "\n",
              "    [theme=dark] .colab-df-convert:hover {\n",
              "      background-color: #434B5C;\n",
              "      box-shadow: 0px 1px 3px 1px rgba(0, 0, 0, 0.15);\n",
              "      filter: drop-shadow(0px 1px 2px rgba(0, 0, 0, 0.3));\n",
              "      fill: #FFFFFF;\n",
              "    }\n",
              "  </style>\n",
              "\n",
              "      <script>\n",
              "        const buttonEl =\n",
              "          document.querySelector('#df-796b1a2d-6b3a-45fc-b80c-4125071c69ea button.colab-df-convert');\n",
              "        buttonEl.style.display =\n",
              "          google.colab.kernel.accessAllowed ? 'block' : 'none';\n",
              "\n",
              "        async function convertToInteractive(key) {\n",
              "          const element = document.querySelector('#df-796b1a2d-6b3a-45fc-b80c-4125071c69ea');\n",
              "          const dataTable =\n",
              "            await google.colab.kernel.invokeFunction('convertToInteractive',\n",
              "                                                     [key], {});\n",
              "          if (!dataTable) return;\n",
              "\n",
              "          const docLinkHtml = 'Like what you see? Visit the ' +\n",
              "            '<a target=\"_blank\" href=https://colab.research.google.com/notebooks/data_table.ipynb>data table notebook</a>'\n",
              "            + ' to learn more about interactive tables.';\n",
              "          element.innerHTML = '';\n",
              "          dataTable['output_type'] = 'display_data';\n",
              "          await google.colab.output.renderOutput(dataTable, element);\n",
              "          const docLink = document.createElement('div');\n",
              "          docLink.innerHTML = docLinkHtml;\n",
              "          element.appendChild(docLink);\n",
              "        }\n",
              "      </script>\n",
              "    </div>\n",
              "  </div>\n"
            ]
          },
          "metadata": {},
          "execution_count": 11
        }
      ],
      "source": [
        "promotionData = pd.read_csv(\"promotionData.csv\")\n",
        "promotionData.head()"
      ]
    },
    {
      "cell_type": "markdown",
      "source": [
        "### Data Preparation"
      ],
      "metadata": {
        "id": "nLilyteG8uT3"
      }
    },
    {
      "cell_type": "code",
      "execution_count": null,
      "metadata": {
        "id": "qJwmTqr0f52v"
      },
      "outputs": [],
      "source": [
        "data = []\n",
        "for index, row in promotionData.iterrows():\n",
        "  for i in range(row[\"Count\"]):\n",
        "    data.append([row[\"Gender\"], row[\"Job Seniority\"], row[\"Age Range\"], row[\"Social Connectivity\"], row[\"Recent Status\"]])"
      ]
    },
    {
      "cell_type": "code",
      "execution_count": null,
      "metadata": {
        "id": "kPFvyHrPm_rB",
        "colab": {
          "base_uri": "https://localhost:8080/",
          "height": 206
        },
        "outputId": "3783da98-e07e-470a-d3dd-04f59cbf6039"
      },
      "outputs": [
        {
          "output_type": "execute_result",
          "data": {
            "text/plain": [
              "   Gender Job Seniority Age Range         Social Connectivity Promotion Status\n",
              "0  Female      Director       55+  Connected to big companies     Not promoted\n",
              "1  Female      Director       55+  Connected to big companies     Not promoted\n",
              "2  Female      Director       55+  Connected to big companies     Not promoted\n",
              "3  Female      Director       55+  Connected to big companies     Not promoted\n",
              "4  Female      Director       55+  Connected to big companies     Not promoted"
            ],
            "text/html": [
              "\n",
              "\n",
              "  <div id=\"df-27ff7971-a8e4-47ea-bfcd-3ac6a31d98d8\">\n",
              "    <div class=\"colab-df-container\">\n",
              "      <div>\n",
              "<style scoped>\n",
              "    .dataframe tbody tr th:only-of-type {\n",
              "        vertical-align: middle;\n",
              "    }\n",
              "\n",
              "    .dataframe tbody tr th {\n",
              "        vertical-align: top;\n",
              "    }\n",
              "\n",
              "    .dataframe thead th {\n",
              "        text-align: right;\n",
              "    }\n",
              "</style>\n",
              "<table border=\"1\" class=\"dataframe\">\n",
              "  <thead>\n",
              "    <tr style=\"text-align: right;\">\n",
              "      <th></th>\n",
              "      <th>Gender</th>\n",
              "      <th>Job Seniority</th>\n",
              "      <th>Age Range</th>\n",
              "      <th>Social Connectivity</th>\n",
              "      <th>Promotion Status</th>\n",
              "    </tr>\n",
              "  </thead>\n",
              "  <tbody>\n",
              "    <tr>\n",
              "      <th>0</th>\n",
              "      <td>Female</td>\n",
              "      <td>Director</td>\n",
              "      <td>55+</td>\n",
              "      <td>Connected to big companies</td>\n",
              "      <td>Not promoted</td>\n",
              "    </tr>\n",
              "    <tr>\n",
              "      <th>1</th>\n",
              "      <td>Female</td>\n",
              "      <td>Director</td>\n",
              "      <td>55+</td>\n",
              "      <td>Connected to big companies</td>\n",
              "      <td>Not promoted</td>\n",
              "    </tr>\n",
              "    <tr>\n",
              "      <th>2</th>\n",
              "      <td>Female</td>\n",
              "      <td>Director</td>\n",
              "      <td>55+</td>\n",
              "      <td>Connected to big companies</td>\n",
              "      <td>Not promoted</td>\n",
              "    </tr>\n",
              "    <tr>\n",
              "      <th>3</th>\n",
              "      <td>Female</td>\n",
              "      <td>Director</td>\n",
              "      <td>55+</td>\n",
              "      <td>Connected to big companies</td>\n",
              "      <td>Not promoted</td>\n",
              "    </tr>\n",
              "    <tr>\n",
              "      <th>4</th>\n",
              "      <td>Female</td>\n",
              "      <td>Director</td>\n",
              "      <td>55+</td>\n",
              "      <td>Connected to big companies</td>\n",
              "      <td>Not promoted</td>\n",
              "    </tr>\n",
              "  </tbody>\n",
              "</table>\n",
              "</div>\n",
              "      <button class=\"colab-df-convert\" onclick=\"convertToInteractive('df-27ff7971-a8e4-47ea-bfcd-3ac6a31d98d8')\"\n",
              "              title=\"Convert this dataframe to an interactive table.\"\n",
              "              style=\"display:none;\">\n",
              "\n",
              "  <svg xmlns=\"http://www.w3.org/2000/svg\" height=\"24px\"viewBox=\"0 0 24 24\"\n",
              "       width=\"24px\">\n",
              "    <path d=\"M0 0h24v24H0V0z\" fill=\"none\"/>\n",
              "    <path d=\"M18.56 5.44l.94 2.06.94-2.06 2.06-.94-2.06-.94-.94-2.06-.94 2.06-2.06.94zm-11 1L8.5 8.5l.94-2.06 2.06-.94-2.06-.94L8.5 2.5l-.94 2.06-2.06.94zm10 10l.94 2.06.94-2.06 2.06-.94-2.06-.94-.94-2.06-.94 2.06-2.06.94z\"/><path d=\"M17.41 7.96l-1.37-1.37c-.4-.4-.92-.59-1.43-.59-.52 0-1.04.2-1.43.59L10.3 9.45l-7.72 7.72c-.78.78-.78 2.05 0 2.83L4 21.41c.39.39.9.59 1.41.59.51 0 1.02-.2 1.41-.59l7.78-7.78 2.81-2.81c.8-.78.8-2.07 0-2.86zM5.41 20L4 18.59l7.72-7.72 1.47 1.35L5.41 20z\"/>\n",
              "  </svg>\n",
              "      </button>\n",
              "\n",
              "\n",
              "\n",
              "    <div id=\"df-8be46ed8-3833-4a66-ab4d-0b2ad965a1c3\">\n",
              "      <button class=\"colab-df-quickchart\" onclick=\"quickchart('df-8be46ed8-3833-4a66-ab4d-0b2ad965a1c3')\"\n",
              "              title=\"Suggest charts.\"\n",
              "              style=\"display:none;\">\n",
              "\n",
              "<svg xmlns=\"http://www.w3.org/2000/svg\" height=\"24px\"viewBox=\"0 0 24 24\"\n",
              "     width=\"24px\">\n",
              "    <g>\n",
              "        <path d=\"M19 3H5c-1.1 0-2 .9-2 2v14c0 1.1.9 2 2 2h14c1.1 0 2-.9 2-2V5c0-1.1-.9-2-2-2zM9 17H7v-7h2v7zm4 0h-2V7h2v10zm4 0h-2v-4h2v4z\"/>\n",
              "    </g>\n",
              "</svg>\n",
              "      </button>\n",
              "    </div>\n",
              "\n",
              "<style>\n",
              "  .colab-df-quickchart {\n",
              "    background-color: #E8F0FE;\n",
              "    border: none;\n",
              "    border-radius: 50%;\n",
              "    cursor: pointer;\n",
              "    display: none;\n",
              "    fill: #1967D2;\n",
              "    height: 32px;\n",
              "    padding: 0 0 0 0;\n",
              "    width: 32px;\n",
              "  }\n",
              "\n",
              "  .colab-df-quickchart:hover {\n",
              "    background-color: #E2EBFA;\n",
              "    box-shadow: 0px 1px 2px rgba(60, 64, 67, 0.3), 0px 1px 3px 1px rgba(60, 64, 67, 0.15);\n",
              "    fill: #174EA6;\n",
              "  }\n",
              "\n",
              "  [theme=dark] .colab-df-quickchart {\n",
              "    background-color: #3B4455;\n",
              "    fill: #D2E3FC;\n",
              "  }\n",
              "\n",
              "  [theme=dark] .colab-df-quickchart:hover {\n",
              "    background-color: #434B5C;\n",
              "    box-shadow: 0px 1px 3px 1px rgba(0, 0, 0, 0.15);\n",
              "    filter: drop-shadow(0px 1px 2px rgba(0, 0, 0, 0.3));\n",
              "    fill: #FFFFFF;\n",
              "  }\n",
              "</style>\n",
              "\n",
              "    <script>\n",
              "      async function quickchart(key) {\n",
              "        const containerElement = document.querySelector('#' + key);\n",
              "        const charts = await google.colab.kernel.invokeFunction(\n",
              "            'suggestCharts', [key], {});\n",
              "      }\n",
              "    </script>\n",
              "\n",
              "      <script>\n",
              "\n",
              "function displayQuickchartButton(domScope) {\n",
              "  let quickchartButtonEl =\n",
              "    domScope.querySelector('#df-8be46ed8-3833-4a66-ab4d-0b2ad965a1c3 button.colab-df-quickchart');\n",
              "  quickchartButtonEl.style.display =\n",
              "    google.colab.kernel.accessAllowed ? 'block' : 'none';\n",
              "}\n",
              "\n",
              "        displayQuickchartButton(document);\n",
              "      </script>\n",
              "      <style>\n",
              "    .colab-df-container {\n",
              "      display:flex;\n",
              "      flex-wrap:wrap;\n",
              "      gap: 12px;\n",
              "    }\n",
              "\n",
              "    .colab-df-convert {\n",
              "      background-color: #E8F0FE;\n",
              "      border: none;\n",
              "      border-radius: 50%;\n",
              "      cursor: pointer;\n",
              "      display: none;\n",
              "      fill: #1967D2;\n",
              "      height: 32px;\n",
              "      padding: 0 0 0 0;\n",
              "      width: 32px;\n",
              "    }\n",
              "\n",
              "    .colab-df-convert:hover {\n",
              "      background-color: #E2EBFA;\n",
              "      box-shadow: 0px 1px 2px rgba(60, 64, 67, 0.3), 0px 1px 3px 1px rgba(60, 64, 67, 0.15);\n",
              "      fill: #174EA6;\n",
              "    }\n",
              "\n",
              "    [theme=dark] .colab-df-convert {\n",
              "      background-color: #3B4455;\n",
              "      fill: #D2E3FC;\n",
              "    }\n",
              "\n",
              "    [theme=dark] .colab-df-convert:hover {\n",
              "      background-color: #434B5C;\n",
              "      box-shadow: 0px 1px 3px 1px rgba(0, 0, 0, 0.15);\n",
              "      filter: drop-shadow(0px 1px 2px rgba(0, 0, 0, 0.3));\n",
              "      fill: #FFFFFF;\n",
              "    }\n",
              "  </style>\n",
              "\n",
              "      <script>\n",
              "        const buttonEl =\n",
              "          document.querySelector('#df-27ff7971-a8e4-47ea-bfcd-3ac6a31d98d8 button.colab-df-convert');\n",
              "        buttonEl.style.display =\n",
              "          google.colab.kernel.accessAllowed ? 'block' : 'none';\n",
              "\n",
              "        async function convertToInteractive(key) {\n",
              "          const element = document.querySelector('#df-27ff7971-a8e4-47ea-bfcd-3ac6a31d98d8');\n",
              "          const dataTable =\n",
              "            await google.colab.kernel.invokeFunction('convertToInteractive',\n",
              "                                                     [key], {});\n",
              "          if (!dataTable) return;\n",
              "\n",
              "          const docLinkHtml = 'Like what you see? Visit the ' +\n",
              "            '<a target=\"_blank\" href=https://colab.research.google.com/notebooks/data_table.ipynb>data table notebook</a>'\n",
              "            + ' to learn more about interactive tables.';\n",
              "          element.innerHTML = '';\n",
              "          dataTable['output_type'] = 'display_data';\n",
              "          await google.colab.output.renderOutput(dataTable, element);\n",
              "          const docLink = document.createElement('div');\n",
              "          docLink.innerHTML = docLinkHtml;\n",
              "          element.appendChild(docLink);\n",
              "        }\n",
              "      </script>\n",
              "    </div>\n",
              "  </div>\n"
            ]
          },
          "metadata": {},
          "execution_count": 16
        }
      ],
      "source": [
        "promotions = pd.DataFrame(data, columns=['Gender', 'Job Seniority', 'Age Range', 'Social Connectivity', 'Promotion Status'])\n",
        "promotions.head()"
      ]
    },
    {
      "cell_type": "code",
      "execution_count": null,
      "metadata": {
        "id": "ASGUTeyG0wkX"
      },
      "outputs": [],
      "source": [
        "promotions['Promotion Status'].replace(['Not promoted','Recently promoted'], [0,1],inplace=True)"
      ]
    },
    {
      "cell_type": "code",
      "execution_count": null,
      "metadata": {
        "id": "C3uS1FOSr0qD"
      },
      "outputs": [],
      "source": [
        "promotions.to_csv(\"promotions.csv\", index=False)"
      ]
    },
    {
      "cell_type": "code",
      "execution_count": null,
      "metadata": {
        "id": "8M3rx29gtBCo",
        "colab": {
          "base_uri": "https://localhost:8080/"
        },
        "outputId": "43a1702e-cf6a-4ac5-b0fa-a8e6fd135918"
      },
      "outputs": [
        {
          "output_type": "stream",
          "name": "stdout",
          "text": [
            "  Gender Job.Seniority Age.Range        Social.Connectivity Promotion.Status\n",
            "1 Female      Director       55+ Connected to big companies                0\n",
            "2 Female      Director       55+ Connected to big companies                0\n",
            "3 Female      Director       55+ Connected to big companies                0\n",
            "4 Female      Director       55+ Connected to big companies                0\n",
            "5 Female      Director       55+ Connected to big companies                0\n",
            "6 Female      Director       55+ Connected to big companies                0\n"
          ]
        }
      ],
      "source": [
        "%%R\n",
        "pdata <- read.csv(\"promotions.csv\")\n",
        "head(pdata)"
      ]
    },
    {
      "cell_type": "code",
      "execution_count": null,
      "metadata": {
        "id": "jBIsiryVgrF2"
      },
      "outputs": [],
      "source": [
        "%%R\n",
        "pdata$Job.Seniority <- as.factor(pdata$Job.Seniority)\n",
        "pdata$Job.Seniority <- relevel(pdata$Job.Seniority, ref = \"Entry\")\n",
        "pdata$Age.Range <- as.factor(pdata$Age.Range)\n",
        "pdata$Age.Range <- relevel(pdata$Age.Range, ref = \"18 to 24\")\n",
        "pdata$Social.Connectivity <- as.factor(pdata$Social.Connectivity)\n",
        "pdata$Social.Connectivity <- relevel(pdata$Social.Connectivity, ref = \"Not connected\")\n",
        "pdata$Gender <- as.factor(pdata$Gender)\n",
        "pdata$Gender <- relevel(pdata$Gender, ref = \"Male\")"
      ]
    },
    {
      "cell_type": "markdown",
      "source": [
        "### Logistic Regression Models"
      ],
      "metadata": {
        "id": "TaogEtO-81rj"
      }
    },
    {
      "cell_type": "code",
      "execution_count": null,
      "metadata": {
        "id": "IU74qpuJDkWQ"
      },
      "outputs": [],
      "source": [
        "%%R\n",
        "model <- glm(Promotion.Status ~ Gender + Job.Seniority + Age.Range + Social.Connectivity + Gender * Social.Connectivity, data = pdata, family = \"binomial\")"
      ]
    },
    {
      "cell_type": "markdown",
      "source": [
        "#### Variance Inflation Factor"
      ],
      "metadata": {
        "id": "qqMaj4xeCTSh"
      }
    },
    {
      "cell_type": "code",
      "execution_count": null,
      "metadata": {
        "colab": {
          "base_uri": "https://localhost:8080/"
        },
        "id": "oTCXEKBMBU8V",
        "outputId": "54f92a8a-e911-4b5c-c450-4f68cc4ed7d5"
      },
      "outputs": [
        {
          "output_type": "stream",
          "name": "stderr",
          "text": [
            "WARNING:rpy2.rinterface_lib.callbacks:R[write to console]: there are higher-order terms (interactions) in this model\n",
            "consider setting type = 'predictor'; see ?vif\n",
            "\n"
          ]
        },
        {
          "output_type": "stream",
          "name": "stdout",
          "text": [
            "                               GVIF Df GVIF^(1/(2*Df))\n",
            "Gender                     2.242622  1        1.497539\n",
            "Job.Seniority              1.063411  3        1.010300\n",
            "Age.Range                  1.095196  3        1.015271\n",
            "Social.Connectivity        1.725271  1        1.313496\n",
            "Gender:Social.Connectivity 2.838126  1        1.684674\n"
          ]
        }
      ],
      "source": [
        "%%R\n",
        "vif(model)"
      ]
    },
    {
      "cell_type": "markdown",
      "source": [
        "#### Calculate Predicted Probabilities"
      ],
      "metadata": {
        "id": "MOsHDUCZCok5"
      }
    },
    {
      "cell_type": "code",
      "execution_count": null,
      "metadata": {
        "colab": {
          "base_uri": "https://localhost:8080/"
        },
        "id": "aDrCa4acR5Ww",
        "outputId": "fca60aef-5072-4238-ab9a-7f7d5aa1dbd3"
      },
      "outputs": [
        {
          "output_type": "stream",
          "name": "stdout",
          "text": [
            "Entry \n",
            "    1 \n"
          ]
        }
      ],
      "source": [
        "%%R\n",
        "which.max(table(pdata$Job.Seniority))"
      ]
    },
    {
      "cell_type": "code",
      "execution_count": null,
      "metadata": {
        "colab": {
          "base_uri": "https://localhost:8080/"
        },
        "id": "0J0uKzheS_1f",
        "outputId": "54079b41-2a20-4331-8633-422ac2c9bd8b"
      },
      "outputs": [
        {
          "output_type": "stream",
          "name": "stdout",
          "text": [
            "25 to 34 \n",
            "       2 \n"
          ]
        }
      ],
      "source": [
        "%%R\n",
        "which.max(table(pdata$Age.Range))"
      ]
    },
    {
      "cell_type": "code",
      "execution_count": null,
      "metadata": {
        "id": "cCsgLS0BT9DR"
      },
      "outputs": [],
      "source": [
        "%%R\n",
        "pdata$newCol1 = \"Entry\"\n",
        "pdata$newCol2 = \"25 to 34\""
      ]
    },
    {
      "cell_type": "code",
      "execution_count": null,
      "metadata": {
        "id": "9dbh7Mo8OOvr"
      },
      "outputs": [],
      "source": [
        "%%R\n",
        "newdata <- with(pdata, data.frame(Gender = factor(Gender), Job.Seniority = newCol1, Age.Range = newCol2, Social.Connectivity = factor(Social.Connectivity)))\n",
        "newdata = newdata[!duplicated(newdata), ]"
      ]
    },
    {
      "cell_type": "code",
      "source": [
        "%%R\n",
        "newdata"
      ],
      "metadata": {
        "colab": {
          "base_uri": "https://localhost:8080/"
        },
        "id": "2lMrQMSrJNNT",
        "outputId": "6dc183ff-71b1-4f5d-e176-8878be0eb9fe"
      },
      "execution_count": null,
      "outputs": [
        {
          "output_type": "stream",
          "name": "stdout",
          "text": [
            "        Gender Job.Seniority Age.Range        Social.Connectivity\n",
            "1       Female         Entry  25 to 34 Connected to big companies\n",
            "8201    Female         Entry  25 to 34              Not connected\n",
            "3585211   Male         Entry  25 to 34 Connected to big companies\n",
            "3620211   Male         Entry  25 to 34              Not connected\n"
          ]
        }
      ]
    },
    {
      "cell_type": "code",
      "execution_count": null,
      "metadata": {
        "colab": {
          "base_uri": "https://localhost:8080/"
        },
        "id": "YQY7AAulRbBg",
        "outputId": "5dd26148-a61f-45bf-ad81-37428d30d285"
      },
      "outputs": [
        {
          "output_type": "stream",
          "name": "stdout",
          "text": [
            "    Gender  Job.Seniority       Age.Range        \n",
            " Male  :2   Length:4           Length:4          \n",
            " Female:2   Class :character   Class :character  \n",
            "            Mode  :character   Mode  :character  \n",
            "                 Social.Connectivity\n",
            " Not connected             :2       \n",
            " Connected to big companies:2       \n",
            "                                    \n"
          ]
        }
      ],
      "source": [
        "%%R\n",
        "summary(newdata)"
      ]
    },
    {
      "cell_type": "code",
      "execution_count": null,
      "metadata": {
        "id": "04upVJVQUxxU"
      },
      "outputs": [],
      "source": [
        "%%R\n",
        "inverse_logit = function(x){\n",
        "  exp(x)/(1+exp(x))\n",
        "}\n",
        "\n",
        "predicted = predict(model, newdata, type='link', se.fit=TRUE)\n",
        "\n",
        "newdata$rankP <- inverse_logit(predicted$fit)\n",
        "newdata$low <- inverse_logit(predicted$fit - (predicted$se.fit*1.96))\n",
        "newdata$high <- inverse_logit(predicted$fit + (predicted$se.fit*1.96))"
      ]
    },
    {
      "cell_type": "code",
      "source": [
        "%%R\n",
        "newdata"
      ],
      "metadata": {
        "colab": {
          "base_uri": "https://localhost:8080/"
        },
        "id": "iPCmSxO4JXSY",
        "outputId": "7385dc28-308b-4fa8-cc62-5fd6038706cf"
      },
      "execution_count": null,
      "outputs": [
        {
          "output_type": "stream",
          "name": "stdout",
          "text": [
            "        Gender Job.Seniority Age.Range        Social.Connectivity        rankP\n",
            "1       Female         Entry  25 to 34 Connected to big companies 0.0028168389\n",
            "8201    Female         Entry  25 to 34              Not connected 0.0008709023\n",
            "3585211   Male         Entry  25 to 34 Connected to big companies 0.0023543914\n",
            "3620211   Male         Entry  25 to 34              Not connected 0.0008070948\n",
            "                 low         high\n",
            "1       0.0027227700 0.0029141482\n",
            "8201    0.0008423191 0.0009004545\n",
            "3585211 0.0022777889 0.0024335638\n",
            "3620211 0.0007812095 0.0008338372\n"
          ]
        }
      ]
    },
    {
      "cell_type": "markdown",
      "source": [
        "#### Full Model"
      ],
      "metadata": {
        "id": "JD6FOGvPIJ-B"
      }
    },
    {
      "cell_type": "code",
      "source": [
        "%%R\n",
        "model <- glm(Promotion.Status ~ Gender + Job.Seniority + Age.Range + Social.Connectivity + Gender * Social.Connectivity, data = pdata, family = \"binomial\")"
      ],
      "metadata": {
        "id": "FdyyDoRvH4Pb"
      },
      "execution_count": null,
      "outputs": []
    },
    {
      "cell_type": "code",
      "execution_count": null,
      "metadata": {
        "colab": {
          "base_uri": "https://localhost:8080/"
        },
        "id": "9gDFALFP0rC4",
        "outputId": "3862136f-29c1-452c-d5fd-a8ad5c5c09dd"
      },
      "outputs": [
        {
          "output_type": "stream",
          "name": "stdout",
          "text": [
            "\n",
            "Call:\n",
            "glm(formula = Promotion.Status ~ Gender + Job.Seniority + Age.Range + \n",
            "    Social.Connectivity + Gender * Social.Connectivity, family = \"binomial\", \n",
            "    data = pdata)\n",
            "\n",
            "Coefficients:\n",
            "                                                            Estimate Std. Error\n",
            "(Intercept)                                                -6.554164   0.017808\n",
            "GenderFemale                                                0.076152   0.009406\n",
            "Job.SeniorityDirector                                       3.264969   0.017497\n",
            "Job.SeniorityManager                                        3.334617   0.016963\n",
            "Job.SenioritySenior                                         2.705650   0.016417\n",
            "Age.Range25 to 34                                          -0.567098   0.009807\n",
            "Age.Range35 to 54                                          -1.223517   0.010264\n",
            "Age.Range55+                                               -2.400197   0.022898\n",
            "Social.ConnectivityConnected to big companies               1.072146   0.008114\n",
            "GenderFemale:Social.ConnectivityConnected to big companies  0.103644   0.012655\n",
            "                                                            z value Pr(>|z|)\n",
            "(Intercept)                                                -368.055  < 2e-16\n",
            "GenderFemale                                                  8.096 5.68e-16\n",
            "Job.SeniorityDirector                                       186.603  < 2e-16\n",
            "Job.SeniorityManager                                        196.586  < 2e-16\n",
            "Job.SenioritySenior                                         164.807  < 2e-16\n",
            "Age.Range25 to 34                                           -57.828  < 2e-16\n",
            "Age.Range35 to 54                                          -119.201  < 2e-16\n",
            "Age.Range55+                                               -104.823  < 2e-16\n",
            "Social.ConnectivityConnected to big companies               132.143  < 2e-16\n",
            "GenderFemale:Social.ConnectivityConnected to big companies    8.190 2.61e-16\n",
            "                                                              \n",
            "(Intercept)                                                ***\n",
            "GenderFemale                                               ***\n",
            "Job.SeniorityDirector                                      ***\n",
            "Job.SeniorityManager                                       ***\n",
            "Job.SenioritySenior                                        ***\n",
            "Age.Range25 to 34                                          ***\n",
            "Age.Range35 to 54                                          ***\n",
            "Age.Range55+                                               ***\n",
            "Social.ConnectivityConnected to big companies              ***\n",
            "GenderFemale:Social.ConnectivityConnected to big companies ***\n",
            "---\n",
            "Signif. codes:  0 ‘***’ 0.001 ‘**’ 0.01 ‘*’ 0.05 ‘.’ 0.1 ‘ ’ 1\n",
            "\n",
            "(Dispersion parameter for binomial family taken to be 1)\n",
            "\n",
            "    Null deviance: 1198547  on 9608319  degrees of freedom\n",
            "Residual deviance: 1054089  on 9608310  degrees of freedom\n",
            "AIC: 1054109\n",
            "\n",
            "Number of Fisher Scoring iterations: 9\n",
            "\n"
          ]
        }
      ],
      "source": [
        "%%R\n",
        "summary(model)"
      ]
    },
    {
      "cell_type": "code",
      "execution_count": null,
      "metadata": {
        "colab": {
          "base_uri": "https://localhost:8080/"
        },
        "id": "GAqQXN-SXvjJ",
        "outputId": "6f9de83e-e382-49ce-cbed-6ec5e47fbe76"
      },
      "outputs": [
        {
          "output_type": "stream",
          "name": "stdout",
          "text": [
            "# A tibble: 10 × 8\n",
            "   term           estimate std.error statistic  p.value      or var.diag   or.se\n",
            "   <chr>             <dbl>     <dbl>     <dbl>    <dbl>   <dbl>    <dbl>   <dbl>\n",
            " 1 (Intercept)     -6.55     0.0178    -368.   0        1.42e-3  3.17e-4 2.54e-5\n",
            " 2 GenderFemale     0.0762   0.00941      8.10 5.68e-16 1.08e+0  8.85e-5 1.02e-2\n",
            " 3 Job.Seniority…   3.26     0.0175     187.   0        2.62e+1  3.06e-4 4.58e-1\n",
            " 4 Job.Seniority…   3.33     0.0170     197.   0        2.81e+1  2.88e-4 4.76e-1\n",
            " 5 Job.Seniority…   2.71     0.0164     165.   0        1.50e+1  2.70e-4 2.46e-1\n",
            " 6 Age.Range25 t…  -0.567    0.00981    -57.8  0        5.67e-1  9.62e-5 5.56e-3\n",
            " 7 Age.Range35 t…  -1.22     0.0103    -119.   0        2.94e-1  1.05e-4 3.02e-3\n",
            " 8 Age.Range55+    -2.40     0.0229    -105.   0        9.07e-2  5.24e-4 2.08e-3\n",
            " 9 Social.Connec…   1.07     0.00811    132.   0        2.92e+0  6.58e-5 2.37e-2\n",
            "10 GenderFemale:…   0.104    0.0127       8.19 2.61e-16 1.11e+0  1.60e-4 1.40e-2\n"
          ]
        }
      ],
      "source": [
        "%%R\n",
        "model.df <- tidy(model)\n",
        "\n",
        "model.df %>%\n",
        "  mutate(or = exp(estimate),\n",
        "         var.diag = diag(vcov(model)),\n",
        "         or.se = sqrt(or^2 * var.diag))"
      ]
    },
    {
      "cell_type": "code",
      "execution_count": null,
      "metadata": {
        "colab": {
          "base_uri": "https://localhost:8080/"
        },
        "id": "lJT9NBKEYT6P",
        "outputId": "22cfaed9-70c6-44a0-cf05-d7b7969d8cfe"
      },
      "outputs": [
        {
          "output_type": "stream",
          "name": "stdout",
          "text": [
            "                                               (Intercept) \n",
            "                                               0.001424173 \n",
            "                                              GenderFemale \n",
            "                                               1.079127087 \n",
            "                                     Job.SeniorityDirector \n",
            "                                              26.179291350 \n",
            "                                      Job.SeniorityManager \n",
            "                                              28.067635333 \n",
            "                                       Job.SenioritySenior \n",
            "                                              14.964039477 \n",
            "                                         Age.Range25 to 34 \n",
            "                                               0.567168965 \n",
            "                                         Age.Range35 to 54 \n",
            "                                               0.294193557 \n",
            "                                              Age.Range55+ \n",
            "                                               0.090700120 \n",
            "             Social.ConnectivityConnected to big companies \n",
            "                                               2.921642994 \n",
            "GenderFemale:Social.ConnectivityConnected to big companies \n",
            "                                               1.109205738 \n"
          ]
        }
      ],
      "source": [
        "%%R\n",
        "exp(coef(model))"
      ]
    },
    {
      "cell_type": "markdown",
      "source": [
        "#### Exclude Job Seniority"
      ],
      "metadata": {
        "id": "yTz_F7tKPVEo"
      }
    },
    {
      "cell_type": "code",
      "source": [
        "%%R\n",
        "model <- glm(Promotion.Status ~ Gender + Age.Range + Social.Connectivity + Gender * Social.Connectivity, data = pdata, family = \"binomial\")"
      ],
      "metadata": {
        "id": "TyNoRQV7PT1s"
      },
      "execution_count": null,
      "outputs": []
    },
    {
      "cell_type": "code",
      "source": [
        "%%R\n",
        "summary(model)"
      ],
      "metadata": {
        "colab": {
          "base_uri": "https://localhost:8080/"
        },
        "id": "PXqjTfduPo90",
        "outputId": "15a5526e-8370-4c9b-dd5c-92a78c03ee01"
      },
      "execution_count": null,
      "outputs": [
        {
          "output_type": "stream",
          "name": "stdout",
          "text": [
            "\n",
            "Call:\n",
            "glm(formula = Promotion.Status ~ Gender + Age.Range + Social.Connectivity + \n",
            "    Gender * Social.Connectivity, family = \"binomial\", data = pdata)\n",
            "\n",
            "Coefficients:\n",
            "                                                            Estimate Std. Error\n",
            "(Intercept)                                                -4.563822   0.009797\n",
            "GenderFemale                                                0.031402   0.009362\n",
            "Age.Range25 to 34                                          -0.344464   0.009681\n",
            "Age.Range35 to 54                                          -0.658305   0.010053\n",
            "Age.Range55+                                               -1.772906   0.022763\n",
            "Social.ConnectivityConnected to big companies               1.337984   0.008039\n",
            "GenderFemale:Social.ConnectivityConnected to big companies  0.204243   0.012573\n",
            "                                                            z value Pr(>|z|)\n",
            "(Intercept)                                                -465.819  < 2e-16\n",
            "GenderFemale                                                  3.354 0.000796\n",
            "Age.Range25 to 34                                           -35.580  < 2e-16\n",
            "Age.Range35 to 54                                           -65.484  < 2e-16\n",
            "Age.Range55+                                                -77.886  < 2e-16\n",
            "Social.ConnectivityConnected to big companies               166.440  < 2e-16\n",
            "GenderFemale:Social.ConnectivityConnected to big companies   16.245  < 2e-16\n",
            "                                                              \n",
            "(Intercept)                                                ***\n",
            "GenderFemale                                               ***\n",
            "Age.Range25 to 34                                          ***\n",
            "Age.Range35 to 54                                          ***\n",
            "Age.Range55+                                               ***\n",
            "Social.ConnectivityConnected to big companies              ***\n",
            "GenderFemale:Social.ConnectivityConnected to big companies ***\n",
            "---\n",
            "Signif. codes:  0 ‘***’ 0.001 ‘**’ 0.01 ‘*’ 0.05 ‘.’ 0.1 ‘ ’ 1\n",
            "\n",
            "(Dispersion parameter for binomial family taken to be 1)\n",
            "\n",
            "    Null deviance: 1198547  on 9608319  degrees of freedom\n",
            "Residual deviance: 1141905  on 9608313  degrees of freedom\n",
            "AIC: 1141919\n",
            "\n",
            "Number of Fisher Scoring iterations: 8\n",
            "\n"
          ]
        }
      ]
    },
    {
      "cell_type": "code",
      "source": [
        "%%R\n",
        "model.df <- tidy(model)\n",
        "\n",
        "model.df %>%\n",
        "  mutate(or = exp(estimate),\n",
        "         var.diag = diag(vcov(model)),\n",
        "         or.se = sqrt(or^2 * var.diag))"
      ],
      "metadata": {
        "colab": {
          "base_uri": "https://localhost:8080/"
        },
        "id": "RnYVjLSQPsLp",
        "outputId": "8bf334e6-375c-4967-c3dd-9e7f5814b3b5"
      },
      "execution_count": null,
      "outputs": [
        {
          "output_type": "stream",
          "name": "stdout",
          "text": [
            "# A tibble: 7 × 8\n",
            "  term            estimate std.error statistic   p.value     or var.diag   or.se\n",
            "  <chr>              <dbl>     <dbl>     <dbl>     <dbl>  <dbl>    <dbl>   <dbl>\n",
            "1 (Intercept)      -4.56     0.00980   -466.   0         0.0104  9.60e-5 1.02e-4\n",
            "2 GenderFemale      0.0314   0.00936      3.35 7.96e-  4 1.03    8.77e-5 9.66e-3\n",
            "3 Age.Range25 to…  -0.344    0.00968    -35.6  2.86e-277 0.709   9.37e-5 6.86e-3\n",
            "4 Age.Range35 to…  -0.658    0.0101     -65.5  0         0.518   1.01e-4 5.20e-3\n",
            "5 Age.Range55+     -1.77     0.0228     -77.9  0         0.170   5.18e-4 3.87e-3\n",
            "6 Social.Connect…   1.34     0.00804    166.   0         3.81    6.46e-5 3.06e-2\n",
            "7 GenderFemale:S…   0.204    0.0126      16.2  2.43e- 59 1.23    1.58e-4 1.54e-2\n"
          ]
        }
      ]
    },
    {
      "cell_type": "code",
      "source": [
        "%%R\n",
        "exp(coef(model))"
      ],
      "metadata": {
        "colab": {
          "base_uri": "https://localhost:8080/"
        },
        "id": "l1o1TFAePua-",
        "outputId": "b1931610-c23e-4f01-c748-337f0b93fda8"
      },
      "execution_count": null,
      "outputs": [
        {
          "output_type": "stream",
          "name": "stdout",
          "text": [
            "                                               (Intercept) \n",
            "                                                0.01042215 \n",
            "                                              GenderFemale \n",
            "                                                1.03190051 \n",
            "                                         Age.Range25 to 34 \n",
            "                                                0.70860001 \n",
            "                                         Age.Range35 to 54 \n",
            "                                                0.51772834 \n",
            "                                              Age.Range55+ \n",
            "                                                0.16983879 \n",
            "             Social.ConnectivityConnected to big companies \n",
            "                                                3.81135074 \n",
            "GenderFemale:Social.ConnectivityConnected to big companies \n",
            "                                                1.22659586 \n"
          ]
        }
      ]
    },
    {
      "cell_type": "markdown",
      "source": [
        "#### Exclude Age Range"
      ],
      "metadata": {
        "id": "BJxC1AubPvoh"
      }
    },
    {
      "cell_type": "code",
      "source": [
        "%%R\n",
        "model <- glm(Promotion.Status ~ Gender + Job.Seniority + Social.Connectivity + Gender * Social.Connectivity, data = pdata, family = \"binomial\")"
      ],
      "metadata": {
        "id": "BtqDKxFKP6Cj"
      },
      "execution_count": null,
      "outputs": []
    },
    {
      "cell_type": "code",
      "source": [
        "%%R\n",
        "summary(model)"
      ],
      "metadata": {
        "colab": {
          "base_uri": "https://localhost:8080/"
        },
        "id": "tCgyhD82SnRj",
        "outputId": "489e714a-50c5-4a3d-b63d-6631fa06d4cd"
      },
      "execution_count": null,
      "outputs": [
        {
          "output_type": "stream",
          "name": "stdout",
          "text": [
            "\n",
            "Call:\n",
            "glm(formula = Promotion.Status ~ Gender + Job.Seniority + Social.Connectivity + \n",
            "    Gender * Social.Connectivity, family = \"binomial\", data = pdata)\n",
            "\n",
            "Coefficients:\n",
            "                                                            Estimate Std. Error\n",
            "(Intercept)                                                -7.171885   0.016374\n",
            "GenderFemale                                                0.132859   0.009388\n",
            "Job.SeniorityDirector                                       2.896988   0.017332\n",
            "Job.SeniorityManager                                        3.103324   0.016893\n",
            "Job.SenioritySenior                                         2.531510   0.016376\n",
            "Social.ConnectivityConnected to big companies               0.900871   0.007984\n",
            "GenderFemale:Social.ConnectivityConnected to big companies  0.165389   0.012614\n",
            "                                                           z value Pr(>|z|)    \n",
            "(Intercept)                                                -438.01   <2e-16 ***\n",
            "GenderFemale                                                 14.15   <2e-16 ***\n",
            "Job.SeniorityDirector                                       167.15   <2e-16 ***\n",
            "Job.SeniorityManager                                        183.71   <2e-16 ***\n",
            "Job.SenioritySenior                                         154.59   <2e-16 ***\n",
            "Social.ConnectivityConnected to big companies               112.83   <2e-16 ***\n",
            "GenderFemale:Social.ConnectivityConnected to big companies   13.11   <2e-16 ***\n",
            "---\n",
            "Signif. codes:  0 ‘***’ 0.001 ‘**’ 0.01 ‘*’ 0.05 ‘.’ 0.1 ‘ ’ 1\n",
            "\n",
            "(Dispersion parameter for binomial family taken to be 1)\n",
            "\n",
            "    Null deviance: 1198547  on 9608319  degrees of freedom\n",
            "Residual deviance: 1079127  on 9608313  degrees of freedom\n",
            "AIC: 1079141\n",
            "\n",
            "Number of Fisher Scoring iterations: 9\n",
            "\n"
          ]
        }
      ]
    },
    {
      "cell_type": "code",
      "source": [
        "%%R\n",
        "model.df <- tidy(model)\n",
        "\n",
        "model.df %>%\n",
        "  mutate(or = exp(estimate),\n",
        "         var.diag = diag(vcov(model)),\n",
        "         or.se = sqrt(or^2 * var.diag))"
      ],
      "metadata": {
        "colab": {
          "base_uri": "https://localhost:8080/"
        },
        "id": "02CA_bYHSrhR",
        "outputId": "a707d63d-257c-4672-9901-63a6b109b214"
      },
      "execution_count": null,
      "outputs": [
        {
          "output_type": "stream",
          "name": "stdout",
          "text": [
            "# A tibble: 7 × 8\n",
            "  term            estimate std.error statistic  p.value      or var.diag   or.se\n",
            "  <chr>              <dbl>     <dbl>     <dbl>    <dbl>   <dbl>    <dbl>   <dbl>\n",
            "1 (Intercept)       -7.17    0.0164     -438.  0        7.68e-4  2.68e-4 1.26e-5\n",
            "2 GenderFemale       0.133   0.00939      14.2 1.81e-45 1.14e+0  8.81e-5 1.07e-2\n",
            "3 Job.SeniorityD…    2.90    0.0173      167.  0        1.81e+1  3.00e-4 3.14e-1\n",
            "4 Job.SeniorityM…    3.10    0.0169      184.  0        2.23e+1  2.85e-4 3.76e-1\n",
            "5 Job.SeniorityS…    2.53    0.0164      155.  0        1.26e+1  2.68e-4 2.06e-1\n",
            "6 Social.Connect…    0.901   0.00798     113.  0        2.46e+0  6.37e-5 1.97e-2\n",
            "7 GenderFemale:S…    0.165   0.0126       13.1 2.82e-39 1.18e+0  1.59e-4 1.49e-2\n"
          ]
        }
      ]
    },
    {
      "cell_type": "code",
      "source": [
        "%%R\n",
        "exp(coef(model))"
      ],
      "metadata": {
        "colab": {
          "base_uri": "https://localhost:8080/"
        },
        "id": "lXwTULliSuIv",
        "outputId": "c7fe1aa4-7f7a-4477-8422-8b98fc3fa2df"
      },
      "execution_count": null,
      "outputs": [
        {
          "output_type": "stream",
          "name": "stdout",
          "text": [
            "                                               (Intercept) \n",
            "                                              7.678739e-04 \n",
            "                                              GenderFemale \n",
            "                                              1.142089e+00 \n",
            "                                     Job.SeniorityDirector \n",
            "                                              1.811950e+01 \n",
            "                                      Job.SeniorityManager \n",
            "                                              2.227186e+01 \n",
            "                                       Job.SenioritySenior \n",
            "                                              1.257247e+01 \n",
            "             Social.ConnectivityConnected to big companies \n",
            "                                              2.461747e+00 \n",
            "GenderFemale:Social.ConnectivityConnected to big companies \n",
            "                                              1.179852e+00 \n"
          ]
        }
      ]
    },
    {
      "cell_type": "markdown",
      "source": [
        "#### Exclude Gender $\\times$ Social.Connectivity"
      ],
      "metadata": {
        "id": "99d0mgyLWGf2"
      }
    },
    {
      "cell_type": "code",
      "source": [
        "%%R\n",
        "model <- glm(Promotion.Status ~ Gender + Job.Seniority + Age.Range + Social.Connectivity, data = pdata, family = \"binomial\")"
      ],
      "metadata": {
        "id": "qI8atKa4WqFB"
      },
      "execution_count": null,
      "outputs": []
    },
    {
      "cell_type": "code",
      "source": [
        "%%R\n",
        "summary(model)"
      ],
      "metadata": {
        "colab": {
          "base_uri": "https://localhost:8080/"
        },
        "id": "LPgRI33XW7ew",
        "outputId": "f9b2b755-11b0-40d4-99d7-0af74b56e023"
      },
      "execution_count": null,
      "outputs": [
        {
          "output_type": "stream",
          "name": "stdout",
          "text": [
            "\n",
            "Call:\n",
            "glm(formula = Promotion.Status ~ Gender + Job.Seniority + Age.Range + \n",
            "    Social.Connectivity, family = \"binomial\", data = pdata)\n",
            "\n",
            "Coefficients:\n",
            "                                               Estimate Std. Error z value\n",
            "(Intercept)                                   -6.578570   0.017576 -374.29\n",
            "GenderFemale                                   0.133020   0.006317   21.06\n",
            "Job.SeniorityDirector                          3.266694   0.017496  186.71\n",
            "Job.SeniorityManager                           3.337435   0.016959  196.79\n",
            "Job.SenioritySenior                            2.706346   0.016417  164.85\n",
            "Age.Range25 to 34                             -0.567277   0.009806  -57.85\n",
            "Age.Range35 to 54                             -1.225524   0.010263 -119.42\n",
            "Age.Range55+                                  -2.403520   0.022896 -104.98\n",
            "Social.ConnectivityConnected to big companies  1.113598   0.006361  175.06\n",
            "                                              Pr(>|z|)    \n",
            "(Intercept)                                     <2e-16 ***\n",
            "GenderFemale                                    <2e-16 ***\n",
            "Job.SeniorityDirector                           <2e-16 ***\n",
            "Job.SeniorityManager                            <2e-16 ***\n",
            "Job.SenioritySenior                             <2e-16 ***\n",
            "Age.Range25 to 34                               <2e-16 ***\n",
            "Age.Range35 to 54                               <2e-16 ***\n",
            "Age.Range55+                                    <2e-16 ***\n",
            "Social.ConnectivityConnected to big companies   <2e-16 ***\n",
            "---\n",
            "Signif. codes:  0 ‘***’ 0.001 ‘**’ 0.01 ‘*’ 0.05 ‘.’ 0.1 ‘ ’ 1\n",
            "\n",
            "(Dispersion parameter for binomial family taken to be 1)\n",
            "\n",
            "    Null deviance: 1198547  on 9608319  degrees of freedom\n",
            "Residual deviance: 1054156  on 9608311  degrees of freedom\n",
            "AIC: 1054174\n",
            "\n",
            "Number of Fisher Scoring iterations: 9\n",
            "\n"
          ]
        }
      ]
    },
    {
      "cell_type": "code",
      "source": [
        "%%R\n",
        "model.df <- tidy(model)\n",
        "\n",
        "model.df %>%\n",
        "  mutate(or = exp(estimate),\n",
        "         var.diag = diag(vcov(model)),\n",
        "         or.se = sqrt(or^2 * var.diag))"
      ],
      "metadata": {
        "colab": {
          "base_uri": "https://localhost:8080/"
        },
        "id": "5uef9-dlW-bM",
        "outputId": "2d490811-5cee-49cc-e515-d48d2379b77c"
      },
      "execution_count": null,
      "outputs": [
        {
          "output_type": "stream",
          "name": "stdout",
          "text": [
            "# A tibble: 9 × 8\n",
            "  term            estimate std.error statistic  p.value      or var.diag   or.se\n",
            "  <chr>              <dbl>     <dbl>     <dbl>    <dbl>   <dbl>    <dbl>   <dbl>\n",
            "1 (Intercept)       -6.58    0.0176     -374.  0        1.39e-3  3.09e-4 2.44e-5\n",
            "2 GenderFemale       0.133   0.00632      21.1 1.91e-98 1.14e+0  3.99e-5 7.22e-3\n",
            "3 Job.SeniorityD…    3.27    0.0175      187.  0        2.62e+1  3.06e-4 4.59e-1\n",
            "4 Job.SeniorityM…    3.34    0.0170      197.  0        2.81e+1  2.88e-4 4.77e-1\n",
            "5 Job.SeniorityS…    2.71    0.0164      165.  0        1.50e+1  2.70e-4 2.46e-1\n",
            "6 Age.Range25 to…   -0.567   0.00981     -57.9 0        5.67e-1  9.62e-5 5.56e-3\n",
            "7 Age.Range35 to…   -1.23    0.0103     -119.  0        2.94e-1  1.05e-4 3.01e-3\n",
            "8 Age.Range55+      -2.40    0.0229     -105.  0        9.04e-2  5.24e-4 2.07e-3\n",
            "9 Social.Connect…    1.11    0.00636     175.  0        3.05e+0  4.05e-5 1.94e-2\n"
          ]
        }
      ]
    },
    {
      "cell_type": "code",
      "source": [
        "%%R\n",
        "exp(coef(model))"
      ],
      "metadata": {
        "colab": {
          "base_uri": "https://localhost:8080/"
        },
        "id": "kWWHhD-1XATs",
        "outputId": "5fc78207-ed79-4244-a9b9-25313215b746"
      },
      "execution_count": null,
      "outputs": [
        {
          "output_type": "stream",
          "name": "stdout",
          "text": [
            "                                  (Intercept) \n",
            "                                  0.001389836 \n",
            "                                 GenderFemale \n",
            "                                  1.142272439 \n",
            "                        Job.SeniorityDirector \n",
            "                                 26.224503298 \n",
            "                         Job.SeniorityManager \n",
            "                                 28.146835607 \n",
            "                          Job.SenioritySenior \n",
            "                                 14.974465754 \n",
            "                            Age.Range25 to 34 \n",
            "                                  0.567067336 \n",
            "                            Age.Range35 to 54 \n",
            "                                  0.293603837 \n",
            "                                 Age.Range55+ \n",
            "                                  0.090399162 \n",
            "Social.ConnectivityConnected to big companies \n",
            "                                  3.045296066 \n"
          ]
        }
      ]
    },
    {
      "cell_type": "markdown",
      "metadata": {
        "id": "ddc_dzvFqKvp"
      },
      "source": [
        "## Relocation Data Analysis"
      ]
    },
    {
      "cell_type": "code",
      "execution_count": null,
      "metadata": {
        "id": "R-U6byBF3POK",
        "colab": {
          "base_uri": "https://localhost:8080/",
          "height": 206
        },
        "outputId": "ecf0570b-2cf7-44cc-cb71-a46ef85c5241"
      },
      "outputs": [
        {
          "output_type": "execute_result",
          "data": {
            "text/plain": [
              "  Country  Gender Job Seniority Age Range       Recent Status  \\\n",
              "0      US  Female      Director       55+       Not relocated   \n",
              "1      US  Female      Director       55+       Not relocated   \n",
              "2      US  Female      Director  35 to 54  Recently relocated   \n",
              "3      US  Female      Director  35 to 54       Not relocated   \n",
              "4      US  Female      Director  35 to 54       Not relocated   \n",
              "\n",
              "          Social Connectivity  Count  \n",
              "0  Connected to big companies   8200  \n",
              "1               Not connected  10800  \n",
              "2               Not connected    390  \n",
              "3  Connected to big companies  64400  \n",
              "4               Not connected  61510  "
            ],
            "text/html": [
              "\n",
              "\n",
              "  <div id=\"df-5bfab267-2643-4566-ae9b-947a511f987f\">\n",
              "    <div class=\"colab-df-container\">\n",
              "      <div>\n",
              "<style scoped>\n",
              "    .dataframe tbody tr th:only-of-type {\n",
              "        vertical-align: middle;\n",
              "    }\n",
              "\n",
              "    .dataframe tbody tr th {\n",
              "        vertical-align: top;\n",
              "    }\n",
              "\n",
              "    .dataframe thead th {\n",
              "        text-align: right;\n",
              "    }\n",
              "</style>\n",
              "<table border=\"1\" class=\"dataframe\">\n",
              "  <thead>\n",
              "    <tr style=\"text-align: right;\">\n",
              "      <th></th>\n",
              "      <th>Country</th>\n",
              "      <th>Gender</th>\n",
              "      <th>Job Seniority</th>\n",
              "      <th>Age Range</th>\n",
              "      <th>Recent Status</th>\n",
              "      <th>Social Connectivity</th>\n",
              "      <th>Count</th>\n",
              "    </tr>\n",
              "  </thead>\n",
              "  <tbody>\n",
              "    <tr>\n",
              "      <th>0</th>\n",
              "      <td>US</td>\n",
              "      <td>Female</td>\n",
              "      <td>Director</td>\n",
              "      <td>55+</td>\n",
              "      <td>Not relocated</td>\n",
              "      <td>Connected to big companies</td>\n",
              "      <td>8200</td>\n",
              "    </tr>\n",
              "    <tr>\n",
              "      <th>1</th>\n",
              "      <td>US</td>\n",
              "      <td>Female</td>\n",
              "      <td>Director</td>\n",
              "      <td>55+</td>\n",
              "      <td>Not relocated</td>\n",
              "      <td>Not connected</td>\n",
              "      <td>10800</td>\n",
              "    </tr>\n",
              "    <tr>\n",
              "      <th>2</th>\n",
              "      <td>US</td>\n",
              "      <td>Female</td>\n",
              "      <td>Director</td>\n",
              "      <td>35 to 54</td>\n",
              "      <td>Recently relocated</td>\n",
              "      <td>Not connected</td>\n",
              "      <td>390</td>\n",
              "    </tr>\n",
              "    <tr>\n",
              "      <th>3</th>\n",
              "      <td>US</td>\n",
              "      <td>Female</td>\n",
              "      <td>Director</td>\n",
              "      <td>35 to 54</td>\n",
              "      <td>Not relocated</td>\n",
              "      <td>Connected to big companies</td>\n",
              "      <td>64400</td>\n",
              "    </tr>\n",
              "    <tr>\n",
              "      <th>4</th>\n",
              "      <td>US</td>\n",
              "      <td>Female</td>\n",
              "      <td>Director</td>\n",
              "      <td>35 to 54</td>\n",
              "      <td>Not relocated</td>\n",
              "      <td>Not connected</td>\n",
              "      <td>61510</td>\n",
              "    </tr>\n",
              "  </tbody>\n",
              "</table>\n",
              "</div>\n",
              "      <button class=\"colab-df-convert\" onclick=\"convertToInteractive('df-5bfab267-2643-4566-ae9b-947a511f987f')\"\n",
              "              title=\"Convert this dataframe to an interactive table.\"\n",
              "              style=\"display:none;\">\n",
              "\n",
              "  <svg xmlns=\"http://www.w3.org/2000/svg\" height=\"24px\"viewBox=\"0 0 24 24\"\n",
              "       width=\"24px\">\n",
              "    <path d=\"M0 0h24v24H0V0z\" fill=\"none\"/>\n",
              "    <path d=\"M18.56 5.44l.94 2.06.94-2.06 2.06-.94-2.06-.94-.94-2.06-.94 2.06-2.06.94zm-11 1L8.5 8.5l.94-2.06 2.06-.94-2.06-.94L8.5 2.5l-.94 2.06-2.06.94zm10 10l.94 2.06.94-2.06 2.06-.94-2.06-.94-.94-2.06-.94 2.06-2.06.94z\"/><path d=\"M17.41 7.96l-1.37-1.37c-.4-.4-.92-.59-1.43-.59-.52 0-1.04.2-1.43.59L10.3 9.45l-7.72 7.72c-.78.78-.78 2.05 0 2.83L4 21.41c.39.39.9.59 1.41.59.51 0 1.02-.2 1.41-.59l7.78-7.78 2.81-2.81c.8-.78.8-2.07 0-2.86zM5.41 20L4 18.59l7.72-7.72 1.47 1.35L5.41 20z\"/>\n",
              "  </svg>\n",
              "      </button>\n",
              "\n",
              "\n",
              "\n",
              "    <div id=\"df-28c16b59-7687-49f8-b590-933c566fca94\">\n",
              "      <button class=\"colab-df-quickchart\" onclick=\"quickchart('df-28c16b59-7687-49f8-b590-933c566fca94')\"\n",
              "              title=\"Suggest charts.\"\n",
              "              style=\"display:none;\">\n",
              "\n",
              "<svg xmlns=\"http://www.w3.org/2000/svg\" height=\"24px\"viewBox=\"0 0 24 24\"\n",
              "     width=\"24px\">\n",
              "    <g>\n",
              "        <path d=\"M19 3H5c-1.1 0-2 .9-2 2v14c0 1.1.9 2 2 2h14c1.1 0 2-.9 2-2V5c0-1.1-.9-2-2-2zM9 17H7v-7h2v7zm4 0h-2V7h2v10zm4 0h-2v-4h2v4z\"/>\n",
              "    </g>\n",
              "</svg>\n",
              "      </button>\n",
              "    </div>\n",
              "\n",
              "<style>\n",
              "  .colab-df-quickchart {\n",
              "    background-color: #E8F0FE;\n",
              "    border: none;\n",
              "    border-radius: 50%;\n",
              "    cursor: pointer;\n",
              "    display: none;\n",
              "    fill: #1967D2;\n",
              "    height: 32px;\n",
              "    padding: 0 0 0 0;\n",
              "    width: 32px;\n",
              "  }\n",
              "\n",
              "  .colab-df-quickchart:hover {\n",
              "    background-color: #E2EBFA;\n",
              "    box-shadow: 0px 1px 2px rgba(60, 64, 67, 0.3), 0px 1px 3px 1px rgba(60, 64, 67, 0.15);\n",
              "    fill: #174EA6;\n",
              "  }\n",
              "\n",
              "  [theme=dark] .colab-df-quickchart {\n",
              "    background-color: #3B4455;\n",
              "    fill: #D2E3FC;\n",
              "  }\n",
              "\n",
              "  [theme=dark] .colab-df-quickchart:hover {\n",
              "    background-color: #434B5C;\n",
              "    box-shadow: 0px 1px 3px 1px rgba(0, 0, 0, 0.15);\n",
              "    filter: drop-shadow(0px 1px 2px rgba(0, 0, 0, 0.3));\n",
              "    fill: #FFFFFF;\n",
              "  }\n",
              "</style>\n",
              "\n",
              "    <script>\n",
              "      async function quickchart(key) {\n",
              "        const containerElement = document.querySelector('#' + key);\n",
              "        const charts = await google.colab.kernel.invokeFunction(\n",
              "            'suggestCharts', [key], {});\n",
              "      }\n",
              "    </script>\n",
              "\n",
              "      <script>\n",
              "\n",
              "function displayQuickchartButton(domScope) {\n",
              "  let quickchartButtonEl =\n",
              "    domScope.querySelector('#df-28c16b59-7687-49f8-b590-933c566fca94 button.colab-df-quickchart');\n",
              "  quickchartButtonEl.style.display =\n",
              "    google.colab.kernel.accessAllowed ? 'block' : 'none';\n",
              "}\n",
              "\n",
              "        displayQuickchartButton(document);\n",
              "      </script>\n",
              "      <style>\n",
              "    .colab-df-container {\n",
              "      display:flex;\n",
              "      flex-wrap:wrap;\n",
              "      gap: 12px;\n",
              "    }\n",
              "\n",
              "    .colab-df-convert {\n",
              "      background-color: #E8F0FE;\n",
              "      border: none;\n",
              "      border-radius: 50%;\n",
              "      cursor: pointer;\n",
              "      display: none;\n",
              "      fill: #1967D2;\n",
              "      height: 32px;\n",
              "      padding: 0 0 0 0;\n",
              "      width: 32px;\n",
              "    }\n",
              "\n",
              "    .colab-df-convert:hover {\n",
              "      background-color: #E2EBFA;\n",
              "      box-shadow: 0px 1px 2px rgba(60, 64, 67, 0.3), 0px 1px 3px 1px rgba(60, 64, 67, 0.15);\n",
              "      fill: #174EA6;\n",
              "    }\n",
              "\n",
              "    [theme=dark] .colab-df-convert {\n",
              "      background-color: #3B4455;\n",
              "      fill: #D2E3FC;\n",
              "    }\n",
              "\n",
              "    [theme=dark] .colab-df-convert:hover {\n",
              "      background-color: #434B5C;\n",
              "      box-shadow: 0px 1px 3px 1px rgba(0, 0, 0, 0.15);\n",
              "      filter: drop-shadow(0px 1px 2px rgba(0, 0, 0, 0.3));\n",
              "      fill: #FFFFFF;\n",
              "    }\n",
              "  </style>\n",
              "\n",
              "      <script>\n",
              "        const buttonEl =\n",
              "          document.querySelector('#df-5bfab267-2643-4566-ae9b-947a511f987f button.colab-df-convert');\n",
              "        buttonEl.style.display =\n",
              "          google.colab.kernel.accessAllowed ? 'block' : 'none';\n",
              "\n",
              "        async function convertToInteractive(key) {\n",
              "          const element = document.querySelector('#df-5bfab267-2643-4566-ae9b-947a511f987f');\n",
              "          const dataTable =\n",
              "            await google.colab.kernel.invokeFunction('convertToInteractive',\n",
              "                                                     [key], {});\n",
              "          if (!dataTable) return;\n",
              "\n",
              "          const docLinkHtml = 'Like what you see? Visit the ' +\n",
              "            '<a target=\"_blank\" href=https://colab.research.google.com/notebooks/data_table.ipynb>data table notebook</a>'\n",
              "            + ' to learn more about interactive tables.';\n",
              "          element.innerHTML = '';\n",
              "          dataTable['output_type'] = 'display_data';\n",
              "          await google.colab.output.renderOutput(dataTable, element);\n",
              "          const docLink = document.createElement('div');\n",
              "          docLink.innerHTML = docLinkHtml;\n",
              "          element.appendChild(docLink);\n",
              "        }\n",
              "      </script>\n",
              "    </div>\n",
              "  </div>\n"
            ]
          },
          "metadata": {},
          "execution_count": 6
        }
      ],
      "source": [
        "relocationData = pd.read_csv(\"relocationData.csv\")\n",
        "relocationData.head()"
      ]
    },
    {
      "cell_type": "markdown",
      "source": [
        "### Data Preparation"
      ],
      "metadata": {
        "id": "2t7REbOfJsW3"
      }
    },
    {
      "cell_type": "code",
      "execution_count": null,
      "metadata": {
        "id": "fEgo19oT3bya"
      },
      "outputs": [],
      "source": [
        "data = []\n",
        "for index, row in relocationData.iterrows():\n",
        "  for i in range(row[\"Count\"]):\n",
        "    data.append([row[\"Gender\"], row[\"Job Seniority\"], row[\"Age Range\"], row[\"Social Connectivity\"], row[\"Recent Status\"]])"
      ]
    },
    {
      "cell_type": "code",
      "execution_count": null,
      "metadata": {
        "id": "gWq9f2oR3kug",
        "colab": {
          "base_uri": "https://localhost:8080/",
          "height": 206
        },
        "outputId": "d67672b8-633c-47f3-fa7f-d3e51a004fb6"
      },
      "outputs": [
        {
          "output_type": "execute_result",
          "data": {
            "text/plain": [
              "   Gender Job Seniority Age Range         Social Connectivity  \\\n",
              "0  Female      Director       55+  Connected to big companies   \n",
              "1  Female      Director       55+  Connected to big companies   \n",
              "2  Female      Director       55+  Connected to big companies   \n",
              "3  Female      Director       55+  Connected to big companies   \n",
              "4  Female      Director       55+  Connected to big companies   \n",
              "\n",
              "  Relocation Status  \n",
              "0     Not relocated  \n",
              "1     Not relocated  \n",
              "2     Not relocated  \n",
              "3     Not relocated  \n",
              "4     Not relocated  "
            ],
            "text/html": [
              "\n",
              "\n",
              "  <div id=\"df-c7302712-11e6-4ecc-9554-ee65d0d08a28\">\n",
              "    <div class=\"colab-df-container\">\n",
              "      <div>\n",
              "<style scoped>\n",
              "    .dataframe tbody tr th:only-of-type {\n",
              "        vertical-align: middle;\n",
              "    }\n",
              "\n",
              "    .dataframe tbody tr th {\n",
              "        vertical-align: top;\n",
              "    }\n",
              "\n",
              "    .dataframe thead th {\n",
              "        text-align: right;\n",
              "    }\n",
              "</style>\n",
              "<table border=\"1\" class=\"dataframe\">\n",
              "  <thead>\n",
              "    <tr style=\"text-align: right;\">\n",
              "      <th></th>\n",
              "      <th>Gender</th>\n",
              "      <th>Job Seniority</th>\n",
              "      <th>Age Range</th>\n",
              "      <th>Social Connectivity</th>\n",
              "      <th>Relocation Status</th>\n",
              "    </tr>\n",
              "  </thead>\n",
              "  <tbody>\n",
              "    <tr>\n",
              "      <th>0</th>\n",
              "      <td>Female</td>\n",
              "      <td>Director</td>\n",
              "      <td>55+</td>\n",
              "      <td>Connected to big companies</td>\n",
              "      <td>Not relocated</td>\n",
              "    </tr>\n",
              "    <tr>\n",
              "      <th>1</th>\n",
              "      <td>Female</td>\n",
              "      <td>Director</td>\n",
              "      <td>55+</td>\n",
              "      <td>Connected to big companies</td>\n",
              "      <td>Not relocated</td>\n",
              "    </tr>\n",
              "    <tr>\n",
              "      <th>2</th>\n",
              "      <td>Female</td>\n",
              "      <td>Director</td>\n",
              "      <td>55+</td>\n",
              "      <td>Connected to big companies</td>\n",
              "      <td>Not relocated</td>\n",
              "    </tr>\n",
              "    <tr>\n",
              "      <th>3</th>\n",
              "      <td>Female</td>\n",
              "      <td>Director</td>\n",
              "      <td>55+</td>\n",
              "      <td>Connected to big companies</td>\n",
              "      <td>Not relocated</td>\n",
              "    </tr>\n",
              "    <tr>\n",
              "      <th>4</th>\n",
              "      <td>Female</td>\n",
              "      <td>Director</td>\n",
              "      <td>55+</td>\n",
              "      <td>Connected to big companies</td>\n",
              "      <td>Not relocated</td>\n",
              "    </tr>\n",
              "  </tbody>\n",
              "</table>\n",
              "</div>\n",
              "      <button class=\"colab-df-convert\" onclick=\"convertToInteractive('df-c7302712-11e6-4ecc-9554-ee65d0d08a28')\"\n",
              "              title=\"Convert this dataframe to an interactive table.\"\n",
              "              style=\"display:none;\">\n",
              "\n",
              "  <svg xmlns=\"http://www.w3.org/2000/svg\" height=\"24px\"viewBox=\"0 0 24 24\"\n",
              "       width=\"24px\">\n",
              "    <path d=\"M0 0h24v24H0V0z\" fill=\"none\"/>\n",
              "    <path d=\"M18.56 5.44l.94 2.06.94-2.06 2.06-.94-2.06-.94-.94-2.06-.94 2.06-2.06.94zm-11 1L8.5 8.5l.94-2.06 2.06-.94-2.06-.94L8.5 2.5l-.94 2.06-2.06.94zm10 10l.94 2.06.94-2.06 2.06-.94-2.06-.94-.94-2.06-.94 2.06-2.06.94z\"/><path d=\"M17.41 7.96l-1.37-1.37c-.4-.4-.92-.59-1.43-.59-.52 0-1.04.2-1.43.59L10.3 9.45l-7.72 7.72c-.78.78-.78 2.05 0 2.83L4 21.41c.39.39.9.59 1.41.59.51 0 1.02-.2 1.41-.59l7.78-7.78 2.81-2.81c.8-.78.8-2.07 0-2.86zM5.41 20L4 18.59l7.72-7.72 1.47 1.35L5.41 20z\"/>\n",
              "  </svg>\n",
              "      </button>\n",
              "\n",
              "\n",
              "\n",
              "    <div id=\"df-8098b9de-150e-4a5e-ba49-19c6439830a0\">\n",
              "      <button class=\"colab-df-quickchart\" onclick=\"quickchart('df-8098b9de-150e-4a5e-ba49-19c6439830a0')\"\n",
              "              title=\"Suggest charts.\"\n",
              "              style=\"display:none;\">\n",
              "\n",
              "<svg xmlns=\"http://www.w3.org/2000/svg\" height=\"24px\"viewBox=\"0 0 24 24\"\n",
              "     width=\"24px\">\n",
              "    <g>\n",
              "        <path d=\"M19 3H5c-1.1 0-2 .9-2 2v14c0 1.1.9 2 2 2h14c1.1 0 2-.9 2-2V5c0-1.1-.9-2-2-2zM9 17H7v-7h2v7zm4 0h-2V7h2v10zm4 0h-2v-4h2v4z\"/>\n",
              "    </g>\n",
              "</svg>\n",
              "      </button>\n",
              "    </div>\n",
              "\n",
              "<style>\n",
              "  .colab-df-quickchart {\n",
              "    background-color: #E8F0FE;\n",
              "    border: none;\n",
              "    border-radius: 50%;\n",
              "    cursor: pointer;\n",
              "    display: none;\n",
              "    fill: #1967D2;\n",
              "    height: 32px;\n",
              "    padding: 0 0 0 0;\n",
              "    width: 32px;\n",
              "  }\n",
              "\n",
              "  .colab-df-quickchart:hover {\n",
              "    background-color: #E2EBFA;\n",
              "    box-shadow: 0px 1px 2px rgba(60, 64, 67, 0.3), 0px 1px 3px 1px rgba(60, 64, 67, 0.15);\n",
              "    fill: #174EA6;\n",
              "  }\n",
              "\n",
              "  [theme=dark] .colab-df-quickchart {\n",
              "    background-color: #3B4455;\n",
              "    fill: #D2E3FC;\n",
              "  }\n",
              "\n",
              "  [theme=dark] .colab-df-quickchart:hover {\n",
              "    background-color: #434B5C;\n",
              "    box-shadow: 0px 1px 3px 1px rgba(0, 0, 0, 0.15);\n",
              "    filter: drop-shadow(0px 1px 2px rgba(0, 0, 0, 0.3));\n",
              "    fill: #FFFFFF;\n",
              "  }\n",
              "</style>\n",
              "\n",
              "    <script>\n",
              "      async function quickchart(key) {\n",
              "        const containerElement = document.querySelector('#' + key);\n",
              "        const charts = await google.colab.kernel.invokeFunction(\n",
              "            'suggestCharts', [key], {});\n",
              "      }\n",
              "    </script>\n",
              "\n",
              "      <script>\n",
              "\n",
              "function displayQuickchartButton(domScope) {\n",
              "  let quickchartButtonEl =\n",
              "    domScope.querySelector('#df-8098b9de-150e-4a5e-ba49-19c6439830a0 button.colab-df-quickchart');\n",
              "  quickchartButtonEl.style.display =\n",
              "    google.colab.kernel.accessAllowed ? 'block' : 'none';\n",
              "}\n",
              "\n",
              "        displayQuickchartButton(document);\n",
              "      </script>\n",
              "      <style>\n",
              "    .colab-df-container {\n",
              "      display:flex;\n",
              "      flex-wrap:wrap;\n",
              "      gap: 12px;\n",
              "    }\n",
              "\n",
              "    .colab-df-convert {\n",
              "      background-color: #E8F0FE;\n",
              "      border: none;\n",
              "      border-radius: 50%;\n",
              "      cursor: pointer;\n",
              "      display: none;\n",
              "      fill: #1967D2;\n",
              "      height: 32px;\n",
              "      padding: 0 0 0 0;\n",
              "      width: 32px;\n",
              "    }\n",
              "\n",
              "    .colab-df-convert:hover {\n",
              "      background-color: #E2EBFA;\n",
              "      box-shadow: 0px 1px 2px rgba(60, 64, 67, 0.3), 0px 1px 3px 1px rgba(60, 64, 67, 0.15);\n",
              "      fill: #174EA6;\n",
              "    }\n",
              "\n",
              "    [theme=dark] .colab-df-convert {\n",
              "      background-color: #3B4455;\n",
              "      fill: #D2E3FC;\n",
              "    }\n",
              "\n",
              "    [theme=dark] .colab-df-convert:hover {\n",
              "      background-color: #434B5C;\n",
              "      box-shadow: 0px 1px 3px 1px rgba(0, 0, 0, 0.15);\n",
              "      filter: drop-shadow(0px 1px 2px rgba(0, 0, 0, 0.3));\n",
              "      fill: #FFFFFF;\n",
              "    }\n",
              "  </style>\n",
              "\n",
              "      <script>\n",
              "        const buttonEl =\n",
              "          document.querySelector('#df-c7302712-11e6-4ecc-9554-ee65d0d08a28 button.colab-df-convert');\n",
              "        buttonEl.style.display =\n",
              "          google.colab.kernel.accessAllowed ? 'block' : 'none';\n",
              "\n",
              "        async function convertToInteractive(key) {\n",
              "          const element = document.querySelector('#df-c7302712-11e6-4ecc-9554-ee65d0d08a28');\n",
              "          const dataTable =\n",
              "            await google.colab.kernel.invokeFunction('convertToInteractive',\n",
              "                                                     [key], {});\n",
              "          if (!dataTable) return;\n",
              "\n",
              "          const docLinkHtml = 'Like what you see? Visit the ' +\n",
              "            '<a target=\"_blank\" href=https://colab.research.google.com/notebooks/data_table.ipynb>data table notebook</a>'\n",
              "            + ' to learn more about interactive tables.';\n",
              "          element.innerHTML = '';\n",
              "          dataTable['output_type'] = 'display_data';\n",
              "          await google.colab.output.renderOutput(dataTable, element);\n",
              "          const docLink = document.createElement('div');\n",
              "          docLink.innerHTML = docLinkHtml;\n",
              "          element.appendChild(docLink);\n",
              "        }\n",
              "      </script>\n",
              "    </div>\n",
              "  </div>\n"
            ]
          },
          "metadata": {},
          "execution_count": 8
        }
      ],
      "source": [
        "relocations = pd.DataFrame(data, columns=['Gender', 'Job Seniority', 'Age Range', 'Social Connectivity', 'Relocation Status'])\n",
        "relocations.head()"
      ]
    },
    {
      "cell_type": "code",
      "execution_count": null,
      "metadata": {
        "id": "nD_60ZDX4gwe"
      },
      "outputs": [],
      "source": [
        "relocations['Relocation Status'].replace(['Not relocated','Recently relocated'], [0,1],inplace=True)"
      ]
    },
    {
      "cell_type": "code",
      "execution_count": null,
      "metadata": {
        "id": "8SZBEzas4say"
      },
      "outputs": [],
      "source": [
        "relocations.to_csv(\"relocations.csv\", index=False)"
      ]
    },
    {
      "cell_type": "code",
      "execution_count": null,
      "metadata": {
        "id": "ChZbHmbF7ryY",
        "colab": {
          "base_uri": "https://localhost:8080/"
        },
        "outputId": "caa3c79a-6a4c-47af-930c-4f131441e9d5"
      },
      "outputs": [
        {
          "output_type": "stream",
          "name": "stdout",
          "text": [
            "  Gender Job.Seniority Age.Range        Social.Connectivity Relocation.Status\n",
            "1 Female      Director       55+ Connected to big companies                 0\n",
            "2 Female      Director       55+ Connected to big companies                 0\n",
            "3 Female      Director       55+ Connected to big companies                 0\n",
            "4 Female      Director       55+ Connected to big companies                 0\n",
            "5 Female      Director       55+ Connected to big companies                 0\n",
            "6 Female      Director       55+ Connected to big companies                 0\n"
          ]
        }
      ],
      "source": [
        "%%R\n",
        "rdata <- read.csv(\"relocations.csv\")\n",
        "head(rdata)"
      ]
    },
    {
      "cell_type": "code",
      "execution_count": null,
      "metadata": {
        "id": "NyuGL0rVqwND"
      },
      "outputs": [],
      "source": [
        "%%R\n",
        "rdata$Job.Seniority <- as.factor(rdata$Job.Seniority)\n",
        "rdata$Job.Seniority <- relevel(rdata$Job.Seniority, ref = \"Entry\")\n",
        "rdata$Social.Connectivity <- as.factor(rdata$Social.Connectivity)\n",
        "rdata$Social.Connectivity <- relevel(rdata$Social.Connectivity, ref = \"Not connected\")\n",
        "rdata$Gender <- as.factor(rdata$Gender)\n",
        "rdata$Gender <- relevel(rdata$Gender, ref = \"Male\")\n",
        "rdata$Age.Range <- as.factor(rdata$Age.Range)\n",
        "rdata$Age.Range <- relevel(rdata$Age.Range, ref = \"18 to 24\")"
      ]
    },
    {
      "cell_type": "markdown",
      "source": [
        "### Logistic Regression Models"
      ],
      "metadata": {
        "id": "2YgRpfThKlAq"
      }
    },
    {
      "cell_type": "code",
      "execution_count": null,
      "metadata": {
        "id": "tA_p68HEr4e4"
      },
      "outputs": [],
      "source": [
        "%%R\n",
        "model <- glm(Relocation.Status ~ Gender + Job.Seniority + Age.Range + Social.Connectivity + Gender * Social.Connectivity, data = rdata, family = \"binomial\")"
      ]
    },
    {
      "cell_type": "markdown",
      "source": [
        "#### Variance Inflation Factor"
      ],
      "metadata": {
        "id": "pdH0SUZuLGDS"
      }
    },
    {
      "cell_type": "code",
      "source": [
        "%%R\n",
        "vif(model)"
      ],
      "metadata": {
        "colab": {
          "base_uri": "https://localhost:8080/"
        },
        "id": "9Pe9YC2ALEqH",
        "outputId": "a2597131-0577-467a-cf0f-2d7413da56e2"
      },
      "execution_count": null,
      "outputs": [
        {
          "output_type": "stream",
          "name": "stderr",
          "text": [
            "WARNING:rpy2.rinterface_lib.callbacks:R[write to console]: there are higher-order terms (interactions) in this model\n",
            "consider setting type = 'predictor'; see ?vif\n",
            "\n"
          ]
        },
        {
          "output_type": "stream",
          "name": "stdout",
          "text": [
            "                               GVIF Df GVIF^(1/(2*Df))\n",
            "Gender                     1.476079  1        1.214940\n",
            "Job.Seniority              1.139180  3        1.021956\n",
            "Age.Range                  1.124644  3        1.019771\n",
            "Social.Connectivity        1.524781  1        1.234820\n",
            "Gender:Social.Connectivity 1.870634  1        1.367711\n"
          ]
        }
      ]
    },
    {
      "cell_type": "markdown",
      "source": [
        "#### Calculate Predicted Probabilities"
      ],
      "metadata": {
        "id": "ROyURhsULOcN"
      }
    },
    {
      "cell_type": "code",
      "execution_count": null,
      "metadata": {
        "colab": {
          "base_uri": "https://localhost:8080/"
        },
        "id": "L1Vd8XjNr9Ou",
        "outputId": "474a89bd-71af-444a-a661-f9d85bfe841d"
      },
      "outputs": [
        {
          "output_type": "stream",
          "name": "stdout",
          "text": [
            "Entry \n",
            "    1 \n"
          ]
        }
      ],
      "source": [
        "%%R\n",
        "which.max(table(rdata$Job.Seniority))"
      ]
    },
    {
      "cell_type": "code",
      "execution_count": null,
      "metadata": {
        "colab": {
          "base_uri": "https://localhost:8080/"
        },
        "id": "E2bQNE1csCwu",
        "outputId": "9eb7a8ba-262d-42b7-f430-fab095fbb902"
      },
      "outputs": [
        {
          "output_type": "stream",
          "name": "stdout",
          "text": [
            "25 to 34 \n",
            "       2 \n"
          ]
        }
      ],
      "source": [
        "%%R\n",
        "which.max(table(rdata$Age.Range))"
      ]
    },
    {
      "cell_type": "code",
      "execution_count": null,
      "metadata": {
        "id": "uBJ3uTeBr91G"
      },
      "outputs": [],
      "source": [
        "%%R\n",
        "rdata$newCol1 = \"Entry\"\n",
        "rdata$newCol2 = \"25 to 34\""
      ]
    },
    {
      "cell_type": "code",
      "execution_count": null,
      "metadata": {
        "id": "xt_XGkrntv4R"
      },
      "outputs": [],
      "source": [
        "%%R\n",
        "newdata <- with(rdata, data.frame(Gender = factor(Gender), Job.Seniority = newCol1, Age.Range = newCol2, Social.Connectivity = factor(Social.Connectivity)))\n",
        "newdata = newdata[!duplicated(newdata), ]"
      ]
    },
    {
      "cell_type": "code",
      "execution_count": null,
      "metadata": {
        "id": "plivkJT8uInZ"
      },
      "outputs": [],
      "source": [
        "%%R\n",
        "inverse_logit = function(x){\n",
        "  exp(x)/(1+exp(x))\n",
        "}\n",
        "\n",
        "predicted = predict(model, newdata, type='link', se.fit=TRUE)\n",
        "\n",
        "newdata$rankP <- inverse_logit(predicted$fit)\n",
        "newdata$low <- inverse_logit(predicted$fit - (predicted$se.fit*1.96))\n",
        "newdata$high <- inverse_logit(predicted$fit + (predicted$se.fit*1.96))"
      ]
    },
    {
      "cell_type": "code",
      "execution_count": null,
      "metadata": {
        "colab": {
          "base_uri": "https://localhost:8080/"
        },
        "id": "cwo5xX_pudsm",
        "outputId": "a6e22425-e3d9-434c-db1f-3e6cf850480e"
      },
      "outputs": [
        {
          "output_type": "stream",
          "name": "stdout",
          "text": [
            "        Gender Job.Seniority Age.Range        Social.Connectivity       rankP\n",
            "1       Female         Entry  25 to 34 Connected to big companies 0.010933560\n",
            "8201    Female         Entry  25 to 34              Not connected 0.008047437\n",
            "3582881   Male         Entry  25 to 34 Connected to big companies 0.011603440\n",
            "3617881   Male         Entry  25 to 34              Not connected 0.010104130\n",
            "                low        high\n",
            "1       0.010706411 0.011165473\n",
            "8201    0.007931005 0.008165565\n",
            "3582881 0.011413456 0.011796548\n",
            "3617881 0.009979081 0.010230730\n"
          ]
        }
      ],
      "source": [
        "%%R\n",
        "newdata"
      ]
    },
    {
      "cell_type": "markdown",
      "source": [
        "#### Full Model"
      ],
      "metadata": {
        "id": "o1FrF9u4QPlt"
      }
    },
    {
      "cell_type": "code",
      "source": [
        "%%R\n",
        "model <- glm(Relocation.Status ~ Gender + Job.Seniority + Age.Range + Social.Connectivity + Gender * Social.Connectivity, data = rdata, family = \"binomial\")"
      ],
      "metadata": {
        "id": "UJ8uNe0VQSzc"
      },
      "execution_count": null,
      "outputs": []
    },
    {
      "cell_type": "code",
      "execution_count": null,
      "metadata": {
        "colab": {
          "base_uri": "https://localhost:8080/"
        },
        "id": "ntk7Ko2lAJFj",
        "outputId": "4203385a-6c61-41d6-d7a1-e24ca05bbcd7"
      },
      "outputs": [
        {
          "output_type": "stream",
          "name": "stdout",
          "text": [
            "\n",
            "Call:\n",
            "glm(formula = Relocation.Status ~ Gender + Job.Seniority + Age.Range + \n",
            "    Social.Connectivity + Gender * Social.Connectivity, family = \"binomial\", \n",
            "    data = rdata)\n",
            "\n",
            "Coefficients:\n",
            "                                                            Estimate Std. Error\n",
            "(Intercept)                                                -4.701177   0.011536\n",
            "GenderFemale                                               -0.229666   0.007348\n",
            "Job.SeniorityDirector                                       0.686790   0.009144\n",
            "Job.SeniorityManager                                        0.100796   0.010239\n",
            "Job.SenioritySenior                                         0.279696   0.006830\n",
            "Age.Range25 to 34                                           0.116521   0.011779\n",
            "Age.Range35 to 54                                           0.323945   0.011854\n",
            "Age.Range55+                                                0.227524   0.015117\n",
            "Social.ConnectivityConnected to big companies               0.139873   0.007390\n",
            "GenderFemale:Social.ConnectivityConnected to big companies  0.169524   0.013006\n",
            "                                                            z value Pr(>|z|)\n",
            "(Intercept)                                                -407.518   <2e-16\n",
            "GenderFemale                                                -31.256   <2e-16\n",
            "Job.SeniorityDirector                                        75.109   <2e-16\n",
            "Job.SeniorityManager                                          9.845   <2e-16\n",
            "Job.SenioritySenior                                          40.954   <2e-16\n",
            "Age.Range25 to 34                                             9.892   <2e-16\n",
            "Age.Range35 to 54                                            27.329   <2e-16\n",
            "Age.Range55+                                                 15.051   <2e-16\n",
            "Social.ConnectivityConnected to big companies                18.926   <2e-16\n",
            "GenderFemale:Social.ConnectivityConnected to big companies   13.034   <2e-16\n",
            "                                                              \n",
            "(Intercept)                                                ***\n",
            "GenderFemale                                               ***\n",
            "Job.SeniorityDirector                                      ***\n",
            "Job.SeniorityManager                                       ***\n",
            "Job.SenioritySenior                                        ***\n",
            "Age.Range25 to 34                                          ***\n",
            "Age.Range35 to 54                                          ***\n",
            "Age.Range55+                                               ***\n",
            "Social.ConnectivityConnected to big companies              ***\n",
            "GenderFemale:Social.ConnectivityConnected to big companies ***\n",
            "---\n",
            "Signif. codes:  0 ‘***’ 0.001 ‘**’ 0.01 ‘*’ 0.05 ‘.’ 0.1 ‘ ’ 1\n",
            "\n",
            "(Dispersion parameter for binomial family taken to be 1)\n",
            "\n",
            "    Null deviance: 1354054  on 9625999  degrees of freedom\n",
            "Residual deviance: 1340603  on 9625990  degrees of freedom\n",
            "AIC: 1340623\n",
            "\n",
            "Number of Fisher Scoring iterations: 7\n",
            "\n"
          ]
        }
      ],
      "source": [
        "%%R\n",
        "summary(model)"
      ]
    },
    {
      "cell_type": "code",
      "execution_count": null,
      "metadata": {
        "colab": {
          "base_uri": "https://localhost:8080/"
        },
        "id": "LxKAOrF9rUpA",
        "outputId": "6997c0cb-09eb-4de5-d87d-459c000f5d95"
      },
      "outputs": [
        {
          "output_type": "stream",
          "name": "stdout",
          "text": [
            "# A tibble: 10 × 8\n",
            "   term          estimate std.error statistic   p.value      or var.diag   or.se\n",
            "   <chr>            <dbl>     <dbl>     <dbl>     <dbl>   <dbl>    <dbl>   <dbl>\n",
            " 1 (Intercept)     -4.70    0.0115    -408.   0         0.00908  1.33e-4 1.05e-4\n",
            " 2 GenderFemale    -0.230   0.00735    -31.3  1.84e-214 0.795    5.40e-5 5.84e-3\n",
            " 3 Job.Seniorit…    0.687   0.00914     75.1  0         1.99     8.36e-5 1.82e-2\n",
            " 4 Job.Seniorit…    0.101   0.0102       9.84 7.23e- 23 1.11     1.05e-4 1.13e-2\n",
            " 5 Job.Seniorit…    0.280   0.00683     41.0  0         1.32     4.66e-5 9.03e-3\n",
            " 6 Age.Range25 …    0.117   0.0118       9.89 4.50e- 23 1.12     1.39e-4 1.32e-2\n",
            " 7 Age.Range35 …    0.324   0.0119      27.3  1.94e-164 1.38     1.41e-4 1.64e-2\n",
            " 8 Age.Range55+     0.228   0.0151      15.1  3.42e- 51 1.26     2.29e-4 1.90e-2\n",
            " 9 Social.Conne…    0.140   0.00739     18.9  6.94e- 80 1.15     5.46e-5 8.50e-3\n",
            "10 GenderFemale…    0.170   0.0130      13.0  7.80e- 39 1.18     1.69e-4 1.54e-2\n"
          ]
        }
      ],
      "source": [
        "%%R\n",
        "model.df <- tidy(model)\n",
        "\n",
        "model.df %>%\n",
        "  mutate(or = exp(estimate),\n",
        "         var.diag = diag(vcov(model)),\n",
        "         or.se = sqrt(or^2 * var.diag))"
      ]
    },
    {
      "cell_type": "code",
      "execution_count": null,
      "metadata": {
        "colab": {
          "base_uri": "https://localhost:8080/"
        },
        "id": "Bqa01zzbliYj",
        "outputId": "28d7cc1e-214a-4db4-90e2-3d2377b98643"
      },
      "outputs": [
        {
          "output_type": "stream",
          "name": "stdout",
          "text": [
            "                                               (Intercept) \n",
            "                                               0.009084583 \n",
            "                                              GenderFemale \n",
            "                                               0.794798969 \n",
            "                                     Job.SeniorityDirector \n",
            "                                               1.987326249 \n",
            "                                      Job.SeniorityManager \n",
            "                                               1.106050531 \n",
            "                                       Job.SenioritySenior \n",
            "                                               1.322728294 \n",
            "                                         Age.Range25 to 34 \n",
            "                                               1.123581101 \n",
            "                                         Age.Range35 to 54 \n",
            "                                               1.382570610 \n",
            "                                              Age.Range55+ \n",
            "                                               1.255487614 \n",
            "             Social.ConnectivityConnected to big companies \n",
            "                                               1.150127861 \n",
            "GenderFemale:Social.ConnectivityConnected to big companies \n",
            "                                               1.184740634 \n"
          ]
        }
      ],
      "source": [
        "%%R\n",
        "exp(coef(model))"
      ]
    },
    {
      "cell_type": "markdown",
      "source": [
        "#### Exclude Job Seniority"
      ],
      "metadata": {
        "id": "cPnXT9YARDkI"
      }
    },
    {
      "cell_type": "code",
      "source": [
        "%%R\n",
        "model <- glm(Relocation.Status ~ Gender + Age.Range + Social.Connectivity + Gender * Social.Connectivity, data = rdata, family = \"binomial\")"
      ],
      "metadata": {
        "id": "YTi_osOuRKsm"
      },
      "execution_count": null,
      "outputs": []
    },
    {
      "cell_type": "code",
      "source": [
        "%%R\n",
        "summary(model)"
      ],
      "metadata": {
        "colab": {
          "base_uri": "https://localhost:8080/"
        },
        "id": "KNx39jleRX48",
        "outputId": "5c1cc0e6-3a3b-4992-fcd6-78cabc718f5c"
      },
      "execution_count": null,
      "outputs": [
        {
          "output_type": "stream",
          "name": "stdout",
          "text": [
            "\n",
            "Call:\n",
            "glm(formula = Relocation.Status ~ Gender + Age.Range + Social.Connectivity + \n",
            "    Gender * Social.Connectivity, family = \"binomial\", data = rdata)\n",
            "\n",
            "Coefficients:\n",
            "                                                            Estimate Std. Error\n",
            "(Intercept)                                                -4.589084   0.011205\n",
            "GenderFemale                                               -0.239681   0.007342\n",
            "Age.Range25 to 34                                           0.146951   0.011758\n",
            "Age.Range35 to 54                                           0.441376   0.011687\n",
            "Age.Range55+                                                0.378823   0.014926\n",
            "Social.ConnectivityConnected to big companies               0.220992   0.007290\n",
            "GenderFemale:Social.ConnectivityConnected to big companies  0.173781   0.012996\n",
            "                                                           z value Pr(>|z|)    \n",
            "(Intercept)                                                -409.57   <2e-16 ***\n",
            "GenderFemale                                                -32.65   <2e-16 ***\n",
            "Age.Range25 to 34                                            12.50   <2e-16 ***\n",
            "Age.Range35 to 54                                            37.77   <2e-16 ***\n",
            "Age.Range55+                                                 25.38   <2e-16 ***\n",
            "Social.ConnectivityConnected to big companies                30.31   <2e-16 ***\n",
            "GenderFemale:Social.ConnectivityConnected to big companies   13.37   <2e-16 ***\n",
            "---\n",
            "Signif. codes:  0 ‘***’ 0.001 ‘**’ 0.01 ‘*’ 0.05 ‘.’ 0.1 ‘ ’ 1\n",
            "\n",
            "(Dispersion parameter for binomial family taken to be 1)\n",
            "\n",
            "    Null deviance: 1354054  on 9625999  degrees of freedom\n",
            "Residual deviance: 1346282  on 9625993  degrees of freedom\n",
            "AIC: 1346296\n",
            "\n",
            "Number of Fisher Scoring iterations: 7\n",
            "\n"
          ]
        }
      ]
    },
    {
      "cell_type": "code",
      "source": [
        "%%R\n",
        "model.df <- tidy(model)\n",
        "\n",
        "model.df %>%\n",
        "  mutate(or = exp(estimate),\n",
        "         var.diag = diag(vcov(model)),\n",
        "         or.se = sqrt(or^2 * var.diag))"
      ],
      "metadata": {
        "colab": {
          "base_uri": "https://localhost:8080/"
        },
        "id": "dct8qnJARn44",
        "outputId": "5a3b88d9-9342-4d88-d81f-25c91faf720e"
      },
      "execution_count": null,
      "outputs": [
        {
          "output_type": "stream",
          "name": "stdout",
          "text": [
            "# A tibble: 7 × 8\n",
            "  term            estimate std.error statistic   p.value     or var.diag   or.se\n",
            "  <chr>              <dbl>     <dbl>     <dbl>     <dbl>  <dbl>    <dbl>   <dbl>\n",
            "1 (Intercept)       -4.59    0.0112     -410.  0         0.0102  1.26e-4 1.14e-4\n",
            "2 GenderFemale      -0.240   0.00734     -32.6 8.97e-234 0.787   5.39e-5 5.78e-3\n",
            "3 Age.Range25 to…    0.147   0.0118       12.5 7.64e- 36 1.16    1.38e-4 1.36e-2\n",
            "4 Age.Range35 to…    0.441   0.0117       37.8 0         1.55    1.37e-4 1.82e-2\n",
            "5 Age.Range55+       0.379   0.0149       25.4 4.21e-142 1.46    2.23e-4 2.18e-2\n",
            "6 Social.Connect…    0.221   0.00729      30.3 7.51e-202 1.25    5.31e-5 9.09e-3\n",
            "7 GenderFemale:S…    0.174   0.0130       13.4 8.88e- 41 1.19    1.69e-4 1.55e-2\n"
          ]
        }
      ]
    },
    {
      "cell_type": "code",
      "source": [
        "%%R\n",
        "exp(coef(model))"
      ],
      "metadata": {
        "colab": {
          "base_uri": "https://localhost:8080/"
        },
        "id": "BOXBpeUCRq2l",
        "outputId": "c339b5ff-2c06-4ca5-fcad-fa38a6b08d54"
      },
      "execution_count": null,
      "outputs": [
        {
          "output_type": "stream",
          "name": "stdout",
          "text": [
            "                                               (Intercept) \n",
            "                                                0.01016216 \n",
            "                                              GenderFemale \n",
            "                                                0.78687897 \n",
            "                                         Age.Range25 to 34 \n",
            "                                                1.15829769 \n",
            "                                         Age.Range35 to 54 \n",
            "                                                1.55484516 \n",
            "                                              Age.Range55+ \n",
            "                                                1.46056473 \n",
            "             Social.ConnectivityConnected to big companies \n",
            "                                                1.24731364 \n",
            "GenderFemale:Social.ConnectivityConnected to big companies \n",
            "                                                1.18979532 \n"
          ]
        }
      ]
    },
    {
      "cell_type": "markdown",
      "source": [
        "#### Exclude Age Range"
      ],
      "metadata": {
        "id": "bIMOje1fRsI-"
      }
    },
    {
      "cell_type": "code",
      "source": [
        "%%R\n",
        "model <- glm(Relocation.Status ~ Gender + Job.Seniority + Social.Connectivity + Gender * Social.Connectivity, data = rdata, family = \"binomial\")"
      ],
      "metadata": {
        "id": "gH25lA2gSBpK"
      },
      "execution_count": null,
      "outputs": []
    },
    {
      "cell_type": "code",
      "source": [
        "%%R\n",
        "summary(model)"
      ],
      "metadata": {
        "colab": {
          "base_uri": "https://localhost:8080/"
        },
        "id": "z7L6Pw6XSEfG",
        "outputId": "e1bc54e3-ae46-452a-a175-0245aa9e0a09"
      },
      "execution_count": null,
      "outputs": [
        {
          "output_type": "stream",
          "name": "stdout",
          "text": [
            "\n",
            "Call:\n",
            "glm(formula = Relocation.Status ~ Gender + Job.Seniority + Social.Connectivity + \n",
            "    Gender * Social.Connectivity, family = \"binomial\", data = rdata)\n",
            "\n",
            "Coefficients:\n",
            "                                                            Estimate Std. Error\n",
            "(Intercept)                                                -4.535984   0.005719\n",
            "GenderFemale                                               -0.239261   0.007336\n",
            "Job.SeniorityDirector                                       0.763993   0.008868\n",
            "Job.SeniorityManager                                        0.152653   0.010135\n",
            "Job.SenioritySenior                                         0.322483   0.006725\n",
            "Social.ConnectivityConnected to big companies               0.175080   0.007330\n",
            "GenderFemale:Social.ConnectivityConnected to big companies  0.162518   0.013002\n",
            "                                                           z value Pr(>|z|)    \n",
            "(Intercept)                                                -793.16   <2e-16 ***\n",
            "GenderFemale                                                -32.61   <2e-16 ***\n",
            "Job.SeniorityDirector                                        86.15   <2e-16 ***\n",
            "Job.SeniorityManager                                         15.06   <2e-16 ***\n",
            "Job.SenioritySenior                                          47.96   <2e-16 ***\n",
            "Social.ConnectivityConnected to big companies                23.89   <2e-16 ***\n",
            "GenderFemale:Social.ConnectivityConnected to big companies   12.50   <2e-16 ***\n",
            "---\n",
            "Signif. codes:  0 ‘***’ 0.001 ‘**’ 0.01 ‘*’ 0.05 ‘.’ 0.1 ‘ ’ 1\n",
            "\n",
            "(Dispersion parameter for binomial family taken to be 1)\n",
            "\n",
            "    Null deviance: 1354054  on 9625999  degrees of freedom\n",
            "Residual deviance: 1342026  on 9625993  degrees of freedom\n",
            "AIC: 1342040\n",
            "\n",
            "Number of Fisher Scoring iterations: 7\n",
            "\n"
          ]
        }
      ]
    },
    {
      "cell_type": "code",
      "source": [
        "%%R\n",
        "model.df <- tidy(model)\n",
        "\n",
        "model.df %>%\n",
        "  mutate(or = exp(estimate),\n",
        "         var.diag = diag(vcov(model)),\n",
        "         or.se = sqrt(or^2 * var.diag))"
      ],
      "metadata": {
        "colab": {
          "base_uri": "https://localhost:8080/"
        },
        "id": "lwa_RMR5SGb9",
        "outputId": "612c3459-83cf-4ac1-82e4-33a6a26a0c0c"
      },
      "execution_count": null,
      "outputs": [
        {
          "output_type": "stream",
          "name": "stdout",
          "text": [
            "# A tibble: 7 × 8\n",
            "  term            estimate std.error statistic   p.value     or var.diag   or.se\n",
            "  <chr>              <dbl>     <dbl>     <dbl>     <dbl>  <dbl>    <dbl>   <dbl>\n",
            "1 (Intercept)       -4.54    0.00572    -793.  0         0.0107  3.27e-5 6.13e-5\n",
            "2 GenderFemale      -0.239   0.00734     -32.6 2.70e-233 0.787   5.38e-5 5.78e-3\n",
            "3 Job.SeniorityD…    0.764   0.00887      86.2 0         2.15    7.86e-5 1.90e-2\n",
            "4 Job.SeniorityM…    0.153   0.0101       15.1 2.89e- 51 1.16    1.03e-4 1.18e-2\n",
            "5 Job.SeniorityS…    0.322   0.00672      48.0 0         1.38    4.52e-5 9.28e-3\n",
            "6 Social.Connect…    0.175   0.00733      23.9 4.31e-126 1.19    5.37e-5 8.73e-3\n",
            "7 GenderFemale:S…    0.163   0.0130       12.5 7.54e- 36 1.18    1.69e-4 1.53e-2\n"
          ]
        }
      ]
    },
    {
      "cell_type": "code",
      "source": [
        "%%R\n",
        "exp(coef(model))"
      ],
      "metadata": {
        "colab": {
          "base_uri": "https://localhost:8080/"
        },
        "id": "m5pXqqp5SH7_",
        "outputId": "04972914-f86c-427c-d8d3-f347c58722c1"
      },
      "execution_count": null,
      "outputs": [
        {
          "output_type": "stream",
          "name": "stdout",
          "text": [
            "                                               (Intercept) \n",
            "                                                0.01071635 \n",
            "                                              GenderFemale \n",
            "                                                0.78720958 \n",
            "                                     Job.SeniorityDirector \n",
            "                                                2.14683222 \n",
            "                                      Job.SeniorityManager \n",
            "                                                1.16492015 \n",
            "                                       Job.SenioritySenior \n",
            "                                                1.38055201 \n",
            "             Social.ConnectivityConnected to big companies \n",
            "                                                1.19134122 \n",
            "GenderFemale:Social.ConnectivityConnected to big companies \n",
            "                                                1.17646995 \n"
          ]
        }
      ]
    },
    {
      "cell_type": "markdown",
      "source": [
        "#### Exclude Gender $\\times$ Social.Connectivity"
      ],
      "metadata": {
        "id": "235HnfCoSQz_"
      }
    },
    {
      "cell_type": "code",
      "execution_count": null,
      "metadata": {
        "id": "NNYFuJ8K_8A6"
      },
      "outputs": [],
      "source": [
        "%%R\n",
        "model <- glm(Relocation.Status ~ Gender + Job.Seniority + Age.Range + Social.Connectivity, data = rdata, family = \"binomial\")"
      ]
    },
    {
      "cell_type": "code",
      "source": [
        "%%R\n",
        "summary(model)"
      ],
      "metadata": {
        "colab": {
          "base_uri": "https://localhost:8080/"
        },
        "id": "nlyENAA8STva",
        "outputId": "4ca25c04-5d9a-4be5-e035-663c21014f40"
      },
      "execution_count": null,
      "outputs": [
        {
          "output_type": "stream",
          "name": "stdout",
          "text": [
            "\n",
            "Call:\n",
            "glm(formula = Relocation.Status ~ Gender + Job.Seniority + Age.Range + \n",
            "    Social.Connectivity, family = \"binomial\", data = rdata)\n",
            "\n",
            "Coefficients:\n",
            "                                               Estimate Std. Error  z value\n",
            "(Intercept)                                   -4.718822   0.011469 -411.431\n",
            "GenderFemale                                  -0.177050   0.006091  -29.067\n",
            "Job.SeniorityDirector                          0.688107   0.009146   75.236\n",
            "Job.SeniorityManager                           0.104042   0.010235   10.165\n",
            "Job.SenioritySenior                            0.280405   0.006829   41.058\n",
            "Age.Range25 to 34                              0.115935   0.011779    9.843\n",
            "Age.Range35 to 54                              0.322485   0.011855   27.203\n",
            "Age.Range55+                                   0.224402   0.015118   14.843\n",
            "Social.ConnectivityConnected to big companies  0.190618   0.006242   30.539\n",
            "                                              Pr(>|z|)    \n",
            "(Intercept)                                     <2e-16 ***\n",
            "GenderFemale                                    <2e-16 ***\n",
            "Job.SeniorityDirector                           <2e-16 ***\n",
            "Job.SeniorityManager                            <2e-16 ***\n",
            "Job.SenioritySenior                             <2e-16 ***\n",
            "Age.Range25 to 34                               <2e-16 ***\n",
            "Age.Range35 to 54                               <2e-16 ***\n",
            "Age.Range55+                                    <2e-16 ***\n",
            "Social.ConnectivityConnected to big companies   <2e-16 ***\n",
            "---\n",
            "Signif. codes:  0 ‘***’ 0.001 ‘**’ 0.01 ‘*’ 0.05 ‘.’ 0.1 ‘ ’ 1\n",
            "\n",
            "(Dispersion parameter for binomial family taken to be 1)\n",
            "\n",
            "    Null deviance: 1354054  on 9625999  degrees of freedom\n",
            "Residual deviance: 1340772  on 9625991  degrees of freedom\n",
            "AIC: 1340790\n",
            "\n",
            "Number of Fisher Scoring iterations: 7\n",
            "\n"
          ]
        }
      ]
    },
    {
      "cell_type": "code",
      "source": [
        "%%R\n",
        "model.df <- tidy(model)\n",
        "\n",
        "model.df %>%\n",
        "  mutate(or = exp(estimate),\n",
        "         var.diag = diag(vcov(model)),\n",
        "         or.se = sqrt(or^2 * var.diag))"
      ],
      "metadata": {
        "colab": {
          "base_uri": "https://localhost:8080/"
        },
        "id": "Kx66NbklSUyJ",
        "outputId": "7ff38387-91b1-45fc-fb74-08cd7b6518b5"
      },
      "execution_count": null,
      "outputs": [
        {
          "output_type": "stream",
          "name": "stdout",
          "text": [
            "# A tibble: 9 × 8\n",
            "  term           estimate std.error statistic   p.value      or var.diag   or.se\n",
            "  <chr>             <dbl>     <dbl>     <dbl>     <dbl>   <dbl>    <dbl>   <dbl>\n",
            "1 (Intercept)      -4.72    0.0115    -411.   0         0.00893  1.32e-4 1.02e-4\n",
            "2 GenderFemale     -0.177   0.00609    -29.1  9.44e-186 0.838    3.71e-5 5.10e-3\n",
            "3 Job.Seniority…    0.688   0.00915     75.2  0         1.99     8.36e-5 1.82e-2\n",
            "4 Job.Seniority…    0.104   0.0102      10.2  2.85e- 24 1.11     1.05e-4 1.14e-2\n",
            "5 Job.Seniority…    0.280   0.00683     41.1  0         1.32     4.66e-5 9.04e-3\n",
            "6 Age.Range25 t…    0.116   0.0118       9.84 7.36e- 23 1.12     1.39e-4 1.32e-2\n",
            "7 Age.Range35 t…    0.322   0.0119      27.2  5.97e-163 1.38     1.41e-4 1.64e-2\n",
            "8 Age.Range55+      0.224   0.0151      14.8  7.67e- 50 1.25     2.29e-4 1.89e-2\n",
            "9 Social.Connec…    0.191   0.00624     30.5  7.94e-205 1.21     3.90e-5 7.55e-3\n"
          ]
        }
      ]
    },
    {
      "cell_type": "code",
      "source": [
        "%%R\n",
        "exp(coef(model))"
      ],
      "metadata": {
        "colab": {
          "base_uri": "https://localhost:8080/"
        },
        "id": "DIay6372SWVf",
        "outputId": "1cafac7e-fe69-4ea7-c06e-21cead3da7c2"
      },
      "execution_count": null,
      "outputs": [
        {
          "output_type": "stream",
          "name": "stdout",
          "text": [
            "                                  (Intercept) \n",
            "                                  0.008925685 \n",
            "                                 GenderFemale \n",
            "                                  0.837738185 \n",
            "                        Job.SeniorityDirector \n",
            "                                  1.989945848 \n",
            "                         Job.SeniorityManager \n",
            "                                  1.109647171 \n",
            "                          Job.SenioritySenior \n",
            "                                  1.323666345 \n",
            "                            Age.Range25 to 34 \n",
            "                                  1.122923323 \n",
            "                            Age.Range35 to 54 \n",
            "                                  1.380554653 \n",
            "                                 Age.Range55+ \n",
            "                                  1.251573799 \n",
            "Social.ConnectivityConnected to big companies \n",
            "                                  1.209997098 \n"
          ]
        }
      ]
    }
  ],
  "metadata": {
    "colab": {
      "provenance": [],
      "collapsed_sections": [
        "nLilyteG8uT3",
        "qqMaj4xeCTSh",
        "MOsHDUCZCok5",
        "JD6FOGvPIJ-B",
        "yTz_F7tKPVEo",
        "BJxC1AubPvoh",
        "99d0mgyLWGf2",
        "pdH0SUZuLGDS",
        "ROyURhsULOcN",
        "o1FrF9u4QPlt",
        "cPnXT9YARDkI",
        "bIMOje1fRsI-"
      ],
      "toc_visible": true
    },
    "kernelspec": {
      "display_name": "Python 3",
      "name": "python3"
    },
    "language_info": {
      "name": "python"
    }
  },
  "nbformat": 4,
  "nbformat_minor": 0
}
